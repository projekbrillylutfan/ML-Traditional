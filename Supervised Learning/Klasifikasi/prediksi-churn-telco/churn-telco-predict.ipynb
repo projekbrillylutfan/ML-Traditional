{
  "nbformat": 4,
  "nbformat_minor": 0,
  "metadata": {
    "colab": {
      "provenance": []
    },
    "kernelspec": {
      "name": "python3",
      "display_name": "Python 3"
    },
    "language_info": {
      "name": "python"
    },
    "gpuClass": "standard"
  },
  "cells": [
    {
      "cell_type": "code",
      "source": [
        "from sklearn.pipeline import Pipeline\n",
        "from sklearn.preprocessing import StandardScaler,LabelEncoder\n",
        "from sklearn.model_selection import train_test_split,cross_val_score\n",
        "from sklearn import linear_model\n",
        "from sklearn.model_selection import train_test_split,cross_val_score\n",
        "from sklearn.ensemble import RandomForestClassifier\n",
        "from sklearn.tree import DecisionTreeRegressor\n",
        "import numpy as np\n",
        "from sklearn.preprocessing import MinMaxScaler\n",
        "\n",
        "import pandas as pd\n",
        "import matplotlib.pyplot as plt\n",
        "import statsmodels.api as sm\n",
        "import seaborn as sns"
      ],
      "metadata": {
        "id": "poBBCzkssHdO"
      },
      "execution_count": null,
      "outputs": []
    },
    {
      "cell_type": "code",
      "source": [
        "df_train = pd.read_csv('/content/drive/MyDrive/dataset challenge 2 binar/Data Train.csv')"
      ],
      "metadata": {
        "id": "5U1-7ZU9Kdoo"
      },
      "execution_count": null,
      "outputs": []
    },
    {
      "cell_type": "code",
      "source": [
        "df_train.head()"
      ],
      "metadata": {
        "colab": {
          "base_uri": "https://localhost:8080/",
          "height": 270
        },
        "id": "JWBiyVjyKssQ",
        "outputId": "a14ea704-05a1-44e5-9d78-39ce1341e643"
      },
      "execution_count": null,
      "outputs": [
        {
          "output_type": "execute_result",
          "data": {
            "text/plain": [
              "  state  account_length      area_code international_plan voice_mail_plan  \\\n",
              "0    OH             107  area_code_415                 no             yes   \n",
              "1    NJ             137  area_code_415                 no              no   \n",
              "2    OH              84  area_code_408                yes              no   \n",
              "3    OK              75  area_code_415                yes              no   \n",
              "4    MA             121  area_code_510                 no             yes   \n",
              "\n",
              "   number_vmail_messages  total_day_minutes  total_day_calls  \\\n",
              "0                     26              161.6              123   \n",
              "1                      0              243.4              114   \n",
              "2                      0              299.4               71   \n",
              "3                      0              166.7              113   \n",
              "4                     24              218.2               88   \n",
              "\n",
              "   total_day_charge  total_eve_minutes  total_eve_calls  total_eve_charge  \\\n",
              "0             27.47              195.5              103             16.62   \n",
              "1             41.38              121.2              110             10.30   \n",
              "2             50.90               61.9               88              5.26   \n",
              "3             28.34              148.3              122             12.61   \n",
              "4             37.09              348.5              108             29.62   \n",
              "\n",
              "   total_night_minutes  total_night_calls  total_night_charge  \\\n",
              "0                254.4                103               11.45   \n",
              "1                162.6                104                7.32   \n",
              "2                196.9                 89                8.86   \n",
              "3                186.9                121                8.41   \n",
              "4                212.6                118                9.57   \n",
              "\n",
              "   total_intl_minutes  total_intl_calls  total_intl_charge  \\\n",
              "0                13.7                 3               3.70   \n",
              "1                12.2                 5               3.29   \n",
              "2                 6.6                 7               1.78   \n",
              "3                10.1                 3               2.73   \n",
              "4                 7.5                 7               2.03   \n",
              "\n",
              "   number_customer_service_calls churn  \n",
              "0                              1    no  \n",
              "1                              0    no  \n",
              "2                              2    no  \n",
              "3                              3    no  \n",
              "4                              3    no  "
            ],
            "text/html": [
              "\n",
              "  <div id=\"df-e42b9e3b-dfec-48d8-ab74-681f1a4f0741\">\n",
              "    <div class=\"colab-df-container\">\n",
              "      <div>\n",
              "<style scoped>\n",
              "    .dataframe tbody tr th:only-of-type {\n",
              "        vertical-align: middle;\n",
              "    }\n",
              "\n",
              "    .dataframe tbody tr th {\n",
              "        vertical-align: top;\n",
              "    }\n",
              "\n",
              "    .dataframe thead th {\n",
              "        text-align: right;\n",
              "    }\n",
              "</style>\n",
              "<table border=\"1\" class=\"dataframe\">\n",
              "  <thead>\n",
              "    <tr style=\"text-align: right;\">\n",
              "      <th></th>\n",
              "      <th>state</th>\n",
              "      <th>account_length</th>\n",
              "      <th>area_code</th>\n",
              "      <th>international_plan</th>\n",
              "      <th>voice_mail_plan</th>\n",
              "      <th>number_vmail_messages</th>\n",
              "      <th>total_day_minutes</th>\n",
              "      <th>total_day_calls</th>\n",
              "      <th>total_day_charge</th>\n",
              "      <th>total_eve_minutes</th>\n",
              "      <th>total_eve_calls</th>\n",
              "      <th>total_eve_charge</th>\n",
              "      <th>total_night_minutes</th>\n",
              "      <th>total_night_calls</th>\n",
              "      <th>total_night_charge</th>\n",
              "      <th>total_intl_minutes</th>\n",
              "      <th>total_intl_calls</th>\n",
              "      <th>total_intl_charge</th>\n",
              "      <th>number_customer_service_calls</th>\n",
              "      <th>churn</th>\n",
              "    </tr>\n",
              "  </thead>\n",
              "  <tbody>\n",
              "    <tr>\n",
              "      <th>0</th>\n",
              "      <td>OH</td>\n",
              "      <td>107</td>\n",
              "      <td>area_code_415</td>\n",
              "      <td>no</td>\n",
              "      <td>yes</td>\n",
              "      <td>26</td>\n",
              "      <td>161.6</td>\n",
              "      <td>123</td>\n",
              "      <td>27.47</td>\n",
              "      <td>195.5</td>\n",
              "      <td>103</td>\n",
              "      <td>16.62</td>\n",
              "      <td>254.4</td>\n",
              "      <td>103</td>\n",
              "      <td>11.45</td>\n",
              "      <td>13.7</td>\n",
              "      <td>3</td>\n",
              "      <td>3.70</td>\n",
              "      <td>1</td>\n",
              "      <td>no</td>\n",
              "    </tr>\n",
              "    <tr>\n",
              "      <th>1</th>\n",
              "      <td>NJ</td>\n",
              "      <td>137</td>\n",
              "      <td>area_code_415</td>\n",
              "      <td>no</td>\n",
              "      <td>no</td>\n",
              "      <td>0</td>\n",
              "      <td>243.4</td>\n",
              "      <td>114</td>\n",
              "      <td>41.38</td>\n",
              "      <td>121.2</td>\n",
              "      <td>110</td>\n",
              "      <td>10.30</td>\n",
              "      <td>162.6</td>\n",
              "      <td>104</td>\n",
              "      <td>7.32</td>\n",
              "      <td>12.2</td>\n",
              "      <td>5</td>\n",
              "      <td>3.29</td>\n",
              "      <td>0</td>\n",
              "      <td>no</td>\n",
              "    </tr>\n",
              "    <tr>\n",
              "      <th>2</th>\n",
              "      <td>OH</td>\n",
              "      <td>84</td>\n",
              "      <td>area_code_408</td>\n",
              "      <td>yes</td>\n",
              "      <td>no</td>\n",
              "      <td>0</td>\n",
              "      <td>299.4</td>\n",
              "      <td>71</td>\n",
              "      <td>50.90</td>\n",
              "      <td>61.9</td>\n",
              "      <td>88</td>\n",
              "      <td>5.26</td>\n",
              "      <td>196.9</td>\n",
              "      <td>89</td>\n",
              "      <td>8.86</td>\n",
              "      <td>6.6</td>\n",
              "      <td>7</td>\n",
              "      <td>1.78</td>\n",
              "      <td>2</td>\n",
              "      <td>no</td>\n",
              "    </tr>\n",
              "    <tr>\n",
              "      <th>3</th>\n",
              "      <td>OK</td>\n",
              "      <td>75</td>\n",
              "      <td>area_code_415</td>\n",
              "      <td>yes</td>\n",
              "      <td>no</td>\n",
              "      <td>0</td>\n",
              "      <td>166.7</td>\n",
              "      <td>113</td>\n",
              "      <td>28.34</td>\n",
              "      <td>148.3</td>\n",
              "      <td>122</td>\n",
              "      <td>12.61</td>\n",
              "      <td>186.9</td>\n",
              "      <td>121</td>\n",
              "      <td>8.41</td>\n",
              "      <td>10.1</td>\n",
              "      <td>3</td>\n",
              "      <td>2.73</td>\n",
              "      <td>3</td>\n",
              "      <td>no</td>\n",
              "    </tr>\n",
              "    <tr>\n",
              "      <th>4</th>\n",
              "      <td>MA</td>\n",
              "      <td>121</td>\n",
              "      <td>area_code_510</td>\n",
              "      <td>no</td>\n",
              "      <td>yes</td>\n",
              "      <td>24</td>\n",
              "      <td>218.2</td>\n",
              "      <td>88</td>\n",
              "      <td>37.09</td>\n",
              "      <td>348.5</td>\n",
              "      <td>108</td>\n",
              "      <td>29.62</td>\n",
              "      <td>212.6</td>\n",
              "      <td>118</td>\n",
              "      <td>9.57</td>\n",
              "      <td>7.5</td>\n",
              "      <td>7</td>\n",
              "      <td>2.03</td>\n",
              "      <td>3</td>\n",
              "      <td>no</td>\n",
              "    </tr>\n",
              "  </tbody>\n",
              "</table>\n",
              "</div>\n",
              "      <button class=\"colab-df-convert\" onclick=\"convertToInteractive('df-e42b9e3b-dfec-48d8-ab74-681f1a4f0741')\"\n",
              "              title=\"Convert this dataframe to an interactive table.\"\n",
              "              style=\"display:none;\">\n",
              "        \n",
              "  <svg xmlns=\"http://www.w3.org/2000/svg\" height=\"24px\"viewBox=\"0 0 24 24\"\n",
              "       width=\"24px\">\n",
              "    <path d=\"M0 0h24v24H0V0z\" fill=\"none\"/>\n",
              "    <path d=\"M18.56 5.44l.94 2.06.94-2.06 2.06-.94-2.06-.94-.94-2.06-.94 2.06-2.06.94zm-11 1L8.5 8.5l.94-2.06 2.06-.94-2.06-.94L8.5 2.5l-.94 2.06-2.06.94zm10 10l.94 2.06.94-2.06 2.06-.94-2.06-.94-.94-2.06-.94 2.06-2.06.94z\"/><path d=\"M17.41 7.96l-1.37-1.37c-.4-.4-.92-.59-1.43-.59-.52 0-1.04.2-1.43.59L10.3 9.45l-7.72 7.72c-.78.78-.78 2.05 0 2.83L4 21.41c.39.39.9.59 1.41.59.51 0 1.02-.2 1.41-.59l7.78-7.78 2.81-2.81c.8-.78.8-2.07 0-2.86zM5.41 20L4 18.59l7.72-7.72 1.47 1.35L5.41 20z\"/>\n",
              "  </svg>\n",
              "      </button>\n",
              "      \n",
              "  <style>\n",
              "    .colab-df-container {\n",
              "      display:flex;\n",
              "      flex-wrap:wrap;\n",
              "      gap: 12px;\n",
              "    }\n",
              "\n",
              "    .colab-df-convert {\n",
              "      background-color: #E8F0FE;\n",
              "      border: none;\n",
              "      border-radius: 50%;\n",
              "      cursor: pointer;\n",
              "      display: none;\n",
              "      fill: #1967D2;\n",
              "      height: 32px;\n",
              "      padding: 0 0 0 0;\n",
              "      width: 32px;\n",
              "    }\n",
              "\n",
              "    .colab-df-convert:hover {\n",
              "      background-color: #E2EBFA;\n",
              "      box-shadow: 0px 1px 2px rgba(60, 64, 67, 0.3), 0px 1px 3px 1px rgba(60, 64, 67, 0.15);\n",
              "      fill: #174EA6;\n",
              "    }\n",
              "\n",
              "    [theme=dark] .colab-df-convert {\n",
              "      background-color: #3B4455;\n",
              "      fill: #D2E3FC;\n",
              "    }\n",
              "\n",
              "    [theme=dark] .colab-df-convert:hover {\n",
              "      background-color: #434B5C;\n",
              "      box-shadow: 0px 1px 3px 1px rgba(0, 0, 0, 0.15);\n",
              "      filter: drop-shadow(0px 1px 2px rgba(0, 0, 0, 0.3));\n",
              "      fill: #FFFFFF;\n",
              "    }\n",
              "  </style>\n",
              "\n",
              "      <script>\n",
              "        const buttonEl =\n",
              "          document.querySelector('#df-e42b9e3b-dfec-48d8-ab74-681f1a4f0741 button.colab-df-convert');\n",
              "        buttonEl.style.display =\n",
              "          google.colab.kernel.accessAllowed ? 'block' : 'none';\n",
              "\n",
              "        async function convertToInteractive(key) {\n",
              "          const element = document.querySelector('#df-e42b9e3b-dfec-48d8-ab74-681f1a4f0741');\n",
              "          const dataTable =\n",
              "            await google.colab.kernel.invokeFunction('convertToInteractive',\n",
              "                                                     [key], {});\n",
              "          if (!dataTable) return;\n",
              "\n",
              "          const docLinkHtml = 'Like what you see? Visit the ' +\n",
              "            '<a target=\"_blank\" href=https://colab.research.google.com/notebooks/data_table.ipynb>data table notebook</a>'\n",
              "            + ' to learn more about interactive tables.';\n",
              "          element.innerHTML = '';\n",
              "          dataTable['output_type'] = 'display_data';\n",
              "          await google.colab.output.renderOutput(dataTable, element);\n",
              "          const docLink = document.createElement('div');\n",
              "          docLink.innerHTML = docLinkHtml;\n",
              "          element.appendChild(docLink);\n",
              "        }\n",
              "      </script>\n",
              "    </div>\n",
              "  </div>\n",
              "  "
            ]
          },
          "metadata": {},
          "execution_count": 3
        }
      ]
    },
    {
      "cell_type": "code",
      "source": [
        "df_train.info()"
      ],
      "metadata": {
        "colab": {
          "base_uri": "https://localhost:8080/"
        },
        "id": "gFZz4nRzK3Ay",
        "outputId": "76224eb2-54cd-489b-feba-a3cc3eef20f3"
      },
      "execution_count": null,
      "outputs": [
        {
          "output_type": "stream",
          "name": "stdout",
          "text": [
            "<class 'pandas.core.frame.DataFrame'>\n",
            "RangeIndex: 4250 entries, 0 to 4249\n",
            "Data columns (total 20 columns):\n",
            " #   Column                         Non-Null Count  Dtype  \n",
            "---  ------                         --------------  -----  \n",
            " 0   state                          4250 non-null   object \n",
            " 1   account_length                 4250 non-null   int64  \n",
            " 2   area_code                      4250 non-null   object \n",
            " 3   international_plan             4250 non-null   object \n",
            " 4   voice_mail_plan                4250 non-null   object \n",
            " 5   number_vmail_messages          4250 non-null   int64  \n",
            " 6   total_day_minutes              4250 non-null   float64\n",
            " 7   total_day_calls                4250 non-null   int64  \n",
            " 8   total_day_charge               4250 non-null   float64\n",
            " 9   total_eve_minutes              4250 non-null   float64\n",
            " 10  total_eve_calls                4250 non-null   int64  \n",
            " 11  total_eve_charge               4250 non-null   float64\n",
            " 12  total_night_minutes            4250 non-null   float64\n",
            " 13  total_night_calls              4250 non-null   int64  \n",
            " 14  total_night_charge             4250 non-null   float64\n",
            " 15  total_intl_minutes             4250 non-null   float64\n",
            " 16  total_intl_calls               4250 non-null   int64  \n",
            " 17  total_intl_charge              4250 non-null   float64\n",
            " 18  number_customer_service_calls  4250 non-null   int64  \n",
            " 19  churn                          4250 non-null   object \n",
            "dtypes: float64(8), int64(7), object(5)\n",
            "memory usage: 664.2+ KB\n"
          ]
        }
      ]
    },
    {
      "cell_type": "code",
      "source": [
        "df_train.isna().sum()"
      ],
      "metadata": {
        "colab": {
          "base_uri": "https://localhost:8080/"
        },
        "id": "mtlPnUd9MRKl",
        "outputId": "583185d7-4cef-4d16-b006-e94151d9a014"
      },
      "execution_count": null,
      "outputs": [
        {
          "output_type": "execute_result",
          "data": {
            "text/plain": [
              "state                            0\n",
              "account_length                   0\n",
              "area_code                        0\n",
              "international_plan               0\n",
              "voice_mail_plan                  0\n",
              "number_vmail_messages            0\n",
              "total_day_minutes                0\n",
              "total_day_calls                  0\n",
              "total_day_charge                 0\n",
              "total_eve_minutes                0\n",
              "total_eve_calls                  0\n",
              "total_eve_charge                 0\n",
              "total_night_minutes              0\n",
              "total_night_calls                0\n",
              "total_night_charge               0\n",
              "total_intl_minutes               0\n",
              "total_intl_calls                 0\n",
              "total_intl_charge                0\n",
              "number_customer_service_calls    0\n",
              "churn                            0\n",
              "dtype: int64"
            ]
          },
          "metadata": {},
          "execution_count": 5
        }
      ]
    },
    {
      "cell_type": "code",
      "source": [
        "df_train.duplicated().sum()"
      ],
      "metadata": {
        "colab": {
          "base_uri": "https://localhost:8080/"
        },
        "id": "QoYxUgUaMUNP",
        "outputId": "7e18510a-86c0-4ed9-f05d-4f8e3e7f1614"
      },
      "execution_count": null,
      "outputs": [
        {
          "output_type": "execute_result",
          "data": {
            "text/plain": [
              "0"
            ]
          },
          "metadata": {},
          "execution_count": 6
        }
      ]
    },
    {
      "cell_type": "markdown",
      "source": [
        "# **PROSES EDA**"
      ],
      "metadata": {
        "id": "hmG1eSMfMl0u"
      }
    },
    {
      "cell_type": "code",
      "source": [
        "plt.figure(figsize=(13, 6))\n",
        "ax = sns.heatmap(df_train.corr(), cmap='Spectral', annot=True, fmt='.2f', linewidths=0.5)\n",
        "ax.set_title('Heatmap Korelasi Antara Variabel', fontsize=14)\n",
        "plt.show()"
      ],
      "metadata": {
        "colab": {
          "base_uri": "https://localhost:8080/",
          "height": 722
        },
        "id": "BWBaR45Rzc8k",
        "outputId": "ad8730a7-bf17-47eb-de00-74a779835413"
      },
      "execution_count": null,
      "outputs": [
        {
          "output_type": "display_data",
          "data": {
            "text/plain": [
              "<Figure size 1300x600 with 2 Axes>"
            ],
            "image/png": "[encoded data removed]"
          },
          "metadata": {}
        }
      ]
    },
    {
      "cell_type": "code",
      "source": [
        "plt.figure(figsize=(20, 10))\n",
        "sns.set(style='ticks')\n",
        "sns.histplot(data=df_train, kde=True)\n",
        "plt.show()"
      ],
      "metadata": {
        "colab": {
          "base_uri": "https://localhost:8080/",
          "height": 571
        },
        "id": "HMh1OzLEzoKZ",
        "outputId": "fc004295-638e-4513-db78-eb9c990986be"
      },
      "execution_count": null,
      "outputs": [
        {
          "output_type": "display_data",
          "data": {
            "text/plain": [
              "<Figure size 2000x1000 with 1 Axes>"
            ],
            "image/png": "[encoded data removed]"
          },
          "metadata": {}
        }
      ]
    },
    {
      "cell_type": "code",
      "source": [
        "df_train['churn'].value_counts()"
      ],
      "metadata": {
        "colab": {
          "base_uri": "https://localhost:8080/"
        },
        "id": "Va0cUD_gzo8E",
        "outputId": "85e128fc-abd7-43e3-de24-e7d0019e6216"
      },
      "execution_count": null,
      "outputs": [
        {
          "output_type": "execute_result",
          "data": {
            "text/plain": [
              "no     3652\n",
              "yes     598\n",
              "Name: churn, dtype: int64"
            ]
          },
          "metadata": {},
          "execution_count": 9
        }
      ]
    },
    {
      "cell_type": "code",
      "source": [
        "df_train['area_code'].value_counts()"
      ],
      "metadata": {
        "colab": {
          "base_uri": "https://localhost:8080/"
        },
        "id": "0xsb2Xpazvq5",
        "outputId": "3d5d1805-4cbf-4c0e-e9be-330b1d3fbe24"
      },
      "execution_count": null,
      "outputs": [
        {
          "output_type": "execute_result",
          "data": {
            "text/plain": [
              "area_code_415    2108\n",
              "area_code_408    1086\n",
              "area_code_510    1056\n",
              "Name: area_code, dtype: int64"
            ]
          },
          "metadata": {},
          "execution_count": 10
        }
      ]
    },
    {
      "cell_type": "code",
      "source": [
        "df_train['state'].value_counts()"
      ],
      "metadata": {
        "colab": {
          "base_uri": "https://localhost:8080/"
        },
        "id": "c2bDdd08zyBx",
        "outputId": "c83e4f5a-f63f-465d-9dd0-59267716f7de"
      },
      "execution_count": null,
      "outputs": [
        {
          "output_type": "execute_result",
          "data": {
            "text/plain": [
              "WV    139\n",
              "MN    108\n",
              "ID    106\n",
              "AL    101\n",
              "VA    100\n",
              "OR     99\n",
              "TX     98\n",
              "UT     97\n",
              "NY     96\n",
              "NJ     96\n",
              "WY     95\n",
              "OH     95\n",
              "WI     94\n",
              "MA     89\n",
              "ME     89\n",
              "CT     88\n",
              "RI     87\n",
              "MI     87\n",
              "KS     87\n",
              "MD     86\n",
              "VT     86\n",
              "KY     85\n",
              "NV     83\n",
              "IN     83\n",
              "MS     82\n",
              "WA     80\n",
              "NC     80\n",
              "MO     80\n",
              "DE     80\n",
              "CO     80\n",
              "MT     80\n",
              "IL     79\n",
              "TN     79\n",
              "NM     78\n",
              "OK     78\n",
              "NH     78\n",
              "HI     77\n",
              "AZ     77\n",
              "FL     76\n",
              "SD     75\n",
              "NE     73\n",
              "DC     72\n",
              "SC     72\n",
              "AR     71\n",
              "LA     69\n",
              "PA     67\n",
              "ND     67\n",
              "GA     64\n",
              "IA     62\n",
              "AK     61\n",
              "CA     39\n",
              "Name: state, dtype: int64"
            ]
          },
          "metadata": {},
          "execution_count": 11
        }
      ]
    },
    {
      "cell_type": "code",
      "source": [
        "df_train['international_plan'].value_counts()"
      ],
      "metadata": {
        "colab": {
          "base_uri": "https://localhost:8080/"
        },
        "id": "6Px4mEYsz1uj",
        "outputId": "e96e93fa-8ba5-4256-f961-5854a7e56fcc"
      },
      "execution_count": null,
      "outputs": [
        {
          "output_type": "execute_result",
          "data": {
            "text/plain": [
              "no     3854\n",
              "yes     396\n",
              "Name: international_plan, dtype: int64"
            ]
          },
          "metadata": {},
          "execution_count": 12
        }
      ]
    },
    {
      "cell_type": "code",
      "source": [
        "df_train['voice_mail_plan'].value_counts()"
      ],
      "metadata": {
        "colab": {
          "base_uri": "https://localhost:8080/"
        },
        "id": "jSRZfWHIz2d-",
        "outputId": "66889e2b-83d1-4a12-b187-b706dc015e89"
      },
      "execution_count": null,
      "outputs": [
        {
          "output_type": "execute_result",
          "data": {
            "text/plain": [
              "no     3138\n",
              "yes    1112\n",
              "Name: voice_mail_plan, dtype: int64"
            ]
          },
          "metadata": {},
          "execution_count": 13
        }
      ]
    },
    {
      "cell_type": "code",
      "source": [
        "#melihat korelasi antara kolom numerik\n",
        "print(df_train.corr())"
      ],
      "metadata": {
        "colab": {
          "base_uri": "https://localhost:8080/"
        },
        "id": "yLa7H7WGz724",
        "outputId": "780710ad-2e82-4415-ce5f-8b010d6287ed"
      },
      "execution_count": null,
      "outputs": [
        {
          "output_type": "stream",
          "name": "stdout",
          "text": [
            "                               account_length  number_vmail_messages  \\\n",
            "account_length                       1.000000              -0.006626   \n",
            "number_vmail_messages               -0.006626               1.000000   \n",
            "total_day_minutes                   -0.001612               0.002000   \n",
            "total_day_calls                      0.023002              -0.006920   \n",
            "total_day_charge                    -0.001613               0.001994   \n",
            "total_eve_minutes                   -0.010326               0.010725   \n",
            "total_eve_calls                      0.005535               0.003593   \n",
            "total_eve_charge                    -0.010322               0.010736   \n",
            "total_night_minutes                 -0.009916               0.018308   \n",
            "total_night_calls                   -0.001846               0.001977   \n",
            "total_night_charge                  -0.009942               0.018300   \n",
            "total_intl_minutes                   0.004539               0.005220   \n",
            "total_intl_calls                     0.013690               0.006585   \n",
            "total_intl_charge                    0.004494               0.005249   \n",
            "number_customer_service_calls        0.001002              -0.015303   \n",
            "\n",
            "                               total_day_minutes  total_day_calls  \\\n",
            "account_length                         -0.001612         0.023002   \n",
            "number_vmail_messages                   0.002000        -0.006920   \n",
            "total_day_minutes                       1.000000         0.000747   \n",
            "total_day_calls                         0.000747         1.000000   \n",
            "total_day_charge                        1.000000         0.000751   \n",
            "total_eve_minutes                      -0.013248         0.008661   \n",
            "total_eve_calls                         0.005986         0.003739   \n",
            "total_eve_charge                       -0.013258         0.008663   \n",
            "total_night_minutes                     0.010049         0.002206   \n",
            "total_night_calls                      -0.004812        -0.004815   \n",
            "total_night_charge                      0.010036         0.002200   \n",
            "total_intl_minutes                     -0.021369         0.008834   \n",
            "total_intl_calls                        0.003859         0.009377   \n",
            "total_intl_charge                      -0.021291         0.008909   \n",
            "number_customer_service_calls          -0.002925        -0.015845   \n",
            "\n",
            "                               total_day_charge  total_eve_minutes  \\\n",
            "account_length                        -0.001613          -0.010326   \n",
            "number_vmail_messages                  0.001994           0.010725   \n",
            "total_day_minutes                      1.000000          -0.013248   \n",
            "total_day_calls                        0.000751           0.008661   \n",
            "total_day_charge                       1.000000          -0.013247   \n",
            "total_eve_minutes                     -0.013247           1.000000   \n",
            "total_eve_calls                        0.005985           0.003101   \n",
            "total_eve_charge                      -0.013257           1.000000   \n",
            "total_night_minutes                    0.010053          -0.014018   \n",
            "total_night_calls                     -0.004816           0.011973   \n",
            "total_night_charge                     0.010040          -0.014031   \n",
            "total_intl_minutes                    -0.021374          -0.003509   \n",
            "total_intl_calls                       0.003853           0.012239   \n",
            "total_intl_charge                     -0.021296          -0.003460   \n",
            "number_customer_service_calls         -0.002932          -0.010063   \n",
            "\n",
            "                               total_eve_calls  total_eve_charge  \\\n",
            "account_length                        0.005535         -0.010322   \n",
            "number_vmail_messages                 0.003593          0.010736   \n",
            "total_day_minutes                     0.005986         -0.013258   \n",
            "total_day_calls                       0.003739          0.008663   \n",
            "total_day_charge                      0.005985         -0.013257   \n",
            "total_eve_minutes                     0.003101          1.000000   \n",
            "total_eve_calls                       1.000000          0.003120   \n",
            "total_eve_charge                      0.003120          1.000000   \n",
            "total_night_minutes                   0.008425         -0.014022   \n",
            "total_night_calls                    -0.011929          0.011971   \n",
            "total_night_charge                    0.008441         -0.014035   \n",
            "total_intl_minutes                   -0.013096         -0.003512   \n",
            "total_intl_calls                      0.004949          0.012239   \n",
            "total_intl_charge                    -0.013145         -0.003463   \n",
            "number_customer_service_calls         0.006956         -0.010071   \n",
            "\n",
            "                               total_night_minutes  total_night_calls  \\\n",
            "account_length                           -0.009916          -0.001846   \n",
            "number_vmail_messages                     0.018308           0.001977   \n",
            "total_day_minutes                         0.010049          -0.004812   \n",
            "total_day_calls                           0.002206          -0.004815   \n",
            "total_day_charge                          0.010053          -0.004816   \n",
            "total_eve_minutes                        -0.014018           0.011973   \n",
            "total_eve_calls                           0.008425          -0.011929   \n",
            "total_eve_charge                         -0.014022           0.011971   \n",
            "total_night_minutes                       1.000000           0.023815   \n",
            "total_night_calls                         0.023815           1.000000   \n",
            "total_night_charge                        0.999999           0.023798   \n",
            "total_intl_minutes                       -0.000113           0.001093   \n",
            "total_intl_calls                         -0.024280           0.003851   \n",
            "total_intl_charge                        -0.000047           0.001054   \n",
            "number_customer_service_calls            -0.013771          -0.008893   \n",
            "\n",
            "                               total_night_charge  total_intl_minutes  \\\n",
            "account_length                          -0.009942            0.004539   \n",
            "number_vmail_messages                    0.018300            0.005220   \n",
            "total_day_minutes                        0.010036           -0.021369   \n",
            "total_day_calls                          0.002200            0.008834   \n",
            "total_day_charge                         0.010040           -0.021374   \n",
            "total_eve_minutes                       -0.014031           -0.003509   \n",
            "total_eve_calls                          0.008441           -0.013096   \n",
            "total_eve_charge                        -0.014035           -0.003512   \n",
            "total_night_minutes                      0.999999           -0.000113   \n",
            "total_night_calls                        0.023798            0.001093   \n",
            "total_night_charge                       1.000000           -0.000103   \n",
            "total_intl_minutes                      -0.000103            1.000000   \n",
            "total_intl_calls                        -0.024260            0.019328   \n",
            "total_intl_charge                       -0.000037            0.999993   \n",
            "number_customer_service_calls           -0.013761           -0.013994   \n",
            "\n",
            "                               total_intl_calls  total_intl_charge  \\\n",
            "account_length                         0.013690           0.004494   \n",
            "number_vmail_messages                  0.006585           0.005249   \n",
            "total_day_minutes                      0.003859          -0.021291   \n",
            "total_day_calls                        0.009377           0.008909   \n",
            "total_day_charge                       0.003853          -0.021296   \n",
            "total_eve_minutes                      0.012239          -0.003460   \n",
            "total_eve_calls                        0.004949          -0.013145   \n",
            "total_eve_charge                       0.012239          -0.003463   \n",
            "total_night_minutes                   -0.024280          -0.000047   \n",
            "total_night_calls                      0.003851           0.001054   \n",
            "total_night_charge                    -0.024260          -0.000037   \n",
            "total_intl_minutes                     0.019328           0.999993   \n",
            "total_intl_calls                       1.000000           0.019414   \n",
            "total_intl_charge                      0.019414           1.000000   \n",
            "number_customer_service_calls         -0.015302          -0.014051   \n",
            "\n",
            "                               number_customer_service_calls  \n",
            "account_length                                      0.001002  \n",
            "number_vmail_messages                              -0.015303  \n",
            "total_day_minutes                                  -0.002925  \n",
            "total_day_calls                                    -0.015845  \n",
            "total_day_charge                                   -0.002932  \n",
            "total_eve_minutes                                  -0.010063  \n",
            "total_eve_calls                                     0.006956  \n",
            "total_eve_charge                                   -0.010071  \n",
            "total_night_minutes                                -0.013771  \n",
            "total_night_calls                                  -0.008893  \n",
            "total_night_charge                                 -0.013761  \n",
            "total_intl_minutes                                 -0.013994  \n",
            "total_intl_calls                                   -0.015302  \n",
            "total_intl_charge                                  -0.014051  \n",
            "number_customer_service_calls                       1.000000  \n"
          ]
        }
      ]
    },
    {
      "cell_type": "code",
      "source": [
        "plt.figure(figsize=(20, 10))\n",
        "\n",
        "plt.subplot(2, 2, 1)\n",
        "sns.countplot(x='area_code', data=df_train, palette='pastel')\n",
        "plt.title('Total Area Code', fontsize=16)\n",
        "plt.xlabel('Area Code', fontsize=14)\n",
        "plt.ylabel('Total', fontsize=14)\n",
        "\n",
        "plt.subplot(2, 2, 2)\n",
        "sns.countplot(x='state', data=df_train, palette='pastel')\n",
        "plt.title('Total State', fontsize=16)\n",
        "plt.xlabel('State', fontsize=14)\n",
        "plt.ylabel('Total', fontsize=14)\n",
        "plt.xticks(rotation=90)\n",
        "\n",
        "plt.subplot(2, 2, 3)\n",
        "sns.countplot(x='international_plan', data=df_train, palette='pastel')\n",
        "plt.title('Total International Plan', fontsize=16)\n",
        "plt.xlabel('Plan International or not', fontsize=14)\n",
        "plt.ylabel('Total', fontsize=14)\n",
        "\n",
        "plt.subplot(2, 2, 4)\n",
        "sns.countplot(x='voice_mail_plan', data=df_train, palette='pastel')\n",
        "plt.title('Total Voice Mail Plan', fontsize=16)\n",
        "plt.xlabel('Plan Voice mail or not', fontsize=14)\n",
        "plt.ylabel('Total', fontsize=14)\n",
        "\n",
        "\n",
        "plt.tight_layout()\n",
        "plt.show()"
      ],
      "metadata": {
        "colab": {
          "base_uri": "https://localhost:8080/",
          "height": 569
        },
        "id": "Z62yAtYL0A7N",
        "outputId": "80b2cabc-0974-447c-8746-4d2800393090"
      },
      "execution_count": null,
      "outputs": [
        {
          "output_type": "display_data",
          "data": {
            "text/plain": [
              "<Figure size 2000x1000 with 4 Axes>"
            ],
            "image/png": "[encoded data removed]"
          },
          "metadata": {}
        }
      ]
    },
    {
      "cell_type": "code",
      "source": [
        "plt.figure(figsize=(35, 10))\n",
        "plt.subplot(2, 2, 2)\n",
        "sns.countplot(x='state', data=df_train, hue='churn', order=df_train['state'].value_counts().index)\n",
        "plt.title('Total State', fontsize=16)\n",
        "plt.xlabel('State', fontsize=14)\n",
        "plt.ylabel('Total', fontsize=14)\n",
        "plt.xticks(rotation=90)"
      ],
      "metadata": {
        "colab": {
          "base_uri": "https://localhost:8080/",
          "height": 1000
        },
        "id": "QaALq8stxlBk",
        "outputId": "e275ef48-9e8e-4aa8-e3ba-1934cd6c9dee"
      },
      "execution_count": null,
      "outputs": [
        {
          "output_type": "execute_result",
          "data": {
            "text/plain": [
              "(array([ 0,  1,  2,  3,  4,  5,  6,  7,  8,  9, 10, 11, 12, 13, 14, 15, 16,\n",
              "        17, 18, 19, 20, 21, 22, 23, 24, 25, 26, 27, 28, 29, 30, 31, 32, 33,\n",
              "        34, 35, 36, 37, 38, 39, 40, 41, 42, 43, 44, 45, 46, 47, 48, 49, 50]),\n",
              " [Text(0, 0, 'WV'),\n",
              "  Text(1, 0, 'MN'),\n",
              "  Text(2, 0, 'ID'),\n",
              "  Text(3, 0, 'AL'),\n",
              "  Text(4, 0, 'VA'),\n",
              "  Text(5, 0, 'OR'),\n",
              "  Text(6, 0, 'TX'),\n",
              "  Text(7, 0, 'UT'),\n",
              "  Text(8, 0, 'NY'),\n",
              "  Text(9, 0, 'NJ'),\n",
              "  Text(10, 0, 'WY'),\n",
              "  Text(11, 0, 'OH'),\n",
              "  Text(12, 0, 'WI'),\n",
              "  Text(13, 0, 'MA'),\n",
              "  Text(14, 0, 'ME'),\n",
              "  Text(15, 0, 'CT'),\n",
              "  Text(16, 0, 'RI'),\n",
              "  Text(17, 0, 'MI'),\n",
              "  Text(18, 0, 'KS'),\n",
              "  Text(19, 0, 'MD'),\n",
              "  Text(20, 0, 'VT'),\n",
              "  Text(21, 0, 'KY'),\n",
              "  Text(22, 0, 'NV'),\n",
              "  Text(23, 0, 'IN'),\n",
              "  Text(24, 0, 'MS'),\n",
              "  Text(25, 0, 'WA'),\n",
              "  Text(26, 0, 'NC'),\n",
              "  Text(27, 0, 'MO'),\n",
              "  Text(28, 0, 'DE'),\n",
              "  Text(29, 0, 'CO'),\n",
              "  Text(30, 0, 'MT'),\n",
              "  Text(31, 0, 'IL'),\n",
              "  Text(32, 0, 'TN'),\n",
              "  Text(33, 0, 'NM'),\n",
              "  Text(34, 0, 'OK'),\n",
              "  Text(35, 0, 'NH'),\n",
              "  Text(36, 0, 'HI'),\n",
              "  Text(37, 0, 'AZ'),\n",
              "  Text(38, 0, 'FL'),\n",
              "  Text(39, 0, 'SD'),\n",
              "  Text(40, 0, 'NE'),\n",
              "  Text(41, 0, 'DC'),\n",
              "  Text(42, 0, 'SC'),\n",
              "  Text(43, 0, 'AR'),\n",
              "  Text(44, 0, 'LA'),\n",
              "  Text(45, 0, 'PA'),\n",
              "  Text(46, 0, 'ND'),\n",
              "  Text(47, 0, 'GA'),\n",
              "  Text(48, 0, 'IA'),\n",
              "  Text(49, 0, 'AK'),\n",
              "  Text(50, 0, 'CA')])"
            ]
          },
          "metadata": {},
          "execution_count": 18
        },
        {
          "output_type": "display_data",
          "data": {
            "text/plain": [
              "<Figure size 3500x1000 with 1 Axes>"
            ],
            "image/png": "[encoded data removed]"
          },
          "metadata": {}
        }
      ]
    },
    {
      "cell_type": "code",
      "source": [
        "plt.figure(figsize=(35, 10))\n",
        "plt.subplot(2, 2, 2)\n",
        "sns.countplot(x='area_code', data=df_train, hue='churn', order=df_train['area_code'].value_counts().index)\n",
        "plt.title('Total area code', fontsize=16)\n",
        "plt.xlabel('area code', fontsize=14)\n",
        "plt.ylabel('Total', fontsize=14)\n",
        "plt.xticks(rotation=90)"
      ],
      "metadata": {
        "colab": {
          "base_uri": "https://localhost:8080/",
          "height": 545
        },
        "id": "FMnO6MX81-XE",
        "outputId": "f28300e7-0d3e-4e33-ac56-1100abc13da3"
      },
      "execution_count": null,
      "outputs": [
        {
          "output_type": "execute_result",
          "data": {
            "text/plain": [
              "(array([0, 1, 2]),\n",
              " [Text(0, 0, 'area_code_415'),\n",
              "  Text(1, 0, 'area_code_408'),\n",
              "  Text(2, 0, 'area_code_510')])"
            ]
          },
          "metadata": {},
          "execution_count": 20
        },
        {
          "output_type": "display_data",
          "data": {
            "text/plain": [
              "<Figure size 3500x1000 with 1 Axes>"
            ],
            "image/png": "[encoded data removed]"
          },
          "metadata": {}
        }
      ]
    },
    {
      "cell_type": "code",
      "source": [
        "plt.subplot(2, 2, 3)\n",
        "sns.countplot(x='churn', data=df_train, palette='pastel')\n",
        "plt.title('Total churn', fontsize=16)\n",
        "plt.xlabel('Plan churn or not', fontsize=14)\n",
        "plt.ylabel('Total', fontsize=14)"
      ],
      "metadata": {
        "colab": {
          "base_uri": "https://localhost:8080/",
          "height": 299
        },
        "id": "uO6NZKUVlCNP",
        "outputId": "d254620c-17ee-438d-dab4-9d2a1b0e7aac"
      },
      "execution_count": null,
      "outputs": [
        {
          "output_type": "execute_result",
          "data": {
            "text/plain": [
              "Text(0, 0.5, 'Total')"
            ]
          },
          "metadata": {},
          "execution_count": 24
        },
        {
          "output_type": "display_data",
          "data": {
            "text/plain": [
              "<Figure size 640x480 with 1 Axes>"
            ],
            "image/png": "[encoded data removed]"
          },
          "metadata": {}
        }
      ]
    },
    {
      "cell_type": "code",
      "source": [
        "df_train.describe()"
      ],
      "metadata": {
        "colab": {
          "base_uri": "https://localhost:8080/",
          "height": 364
        },
        "id": "wcLKTngUMeQt",
        "outputId": "1151c12a-69e7-4c59-fc5b-a68c2f4d575a"
      },
      "execution_count": null,
      "outputs": [
        {
          "output_type": "execute_result",
          "data": {
            "text/plain": [
              "       account_length  number_vmail_messages  total_day_minutes  \\\n",
              "count     4250.000000            4250.000000        4250.000000   \n",
              "mean       100.236235               7.631765         180.259600   \n",
              "std         39.698401              13.439882          54.012373   \n",
              "min          1.000000               0.000000           0.000000   \n",
              "25%         73.000000               0.000000         143.325000   \n",
              "50%        100.000000               0.000000         180.450000   \n",
              "75%        127.000000              16.000000         216.200000   \n",
              "max        243.000000              52.000000         351.500000   \n",
              "\n",
              "       total_day_calls  total_day_charge  total_eve_minutes  total_eve_calls  \\\n",
              "count      4250.000000       4250.000000        4250.000000      4250.000000   \n",
              "mean         99.907294         30.644682         200.173906       100.176471   \n",
              "std          19.850817          9.182096          50.249518        19.908591   \n",
              "min           0.000000          0.000000           0.000000         0.000000   \n",
              "25%          87.000000         24.365000         165.925000        87.000000   \n",
              "50%         100.000000         30.680000         200.700000       100.000000   \n",
              "75%         113.000000         36.750000         233.775000       114.000000   \n",
              "max         165.000000         59.760000         359.300000       170.000000   \n",
              "\n",
              "       total_eve_charge  total_night_minutes  total_night_calls  \\\n",
              "count       4250.000000          4250.000000        4250.000000   \n",
              "mean          17.015012           200.527882          99.839529   \n",
              "std            4.271212            50.353548          20.093220   \n",
              "min            0.000000             0.000000           0.000000   \n",
              "25%           14.102500           167.225000          86.000000   \n",
              "50%           17.060000           200.450000         100.000000   \n",
              "75%           19.867500           234.700000         113.000000   \n",
              "max           30.540000           395.000000         175.000000   \n",
              "\n",
              "       total_night_charge  total_intl_minutes  total_intl_calls  \\\n",
              "count         4250.000000         4250.000000       4250.000000   \n",
              "mean             9.023892           10.256071          4.426353   \n",
              "std              2.265922            2.760102          2.463069   \n",
              "min              0.000000            0.000000          0.000000   \n",
              "25%              7.522500            8.500000          3.000000   \n",
              "50%              9.020000           10.300000          4.000000   \n",
              "75%             10.560000           12.000000          6.000000   \n",
              "max             17.770000           20.000000         20.000000   \n",
              "\n",
              "       total_intl_charge  number_customer_service_calls  \n",
              "count        4250.000000                    4250.000000  \n",
              "mean            2.769654                       1.559059  \n",
              "std             0.745204                       1.311434  \n",
              "min             0.000000                       0.000000  \n",
              "25%             2.300000                       1.000000  \n",
              "50%             2.780000                       1.000000  \n",
              "75%             3.240000                       2.000000  \n",
              "max             5.400000                       9.000000  "
            ],
            "text/html": [
              "\n",
              "  <div id=\"df-bf49bd93-438e-478e-b8da-58a4ec0cf952\">\n",
              "    <div class=\"colab-df-container\">\n",
              "      <div>\n",
              "<style scoped>\n",
              "    .dataframe tbody tr th:only-of-type {\n",
              "        vertical-align: middle;\n",
              "    }\n",
              "\n",
              "    .dataframe tbody tr th {\n",
              "        vertical-align: top;\n",
              "    }\n",
              "\n",
              "    .dataframe thead th {\n",
              "        text-align: right;\n",
              "    }\n",
              "</style>\n",
              "<table border=\"1\" class=\"dataframe\">\n",
              "  <thead>\n",
              "    <tr style=\"text-align: right;\">\n",
              "      <th></th>\n",
              "      <th>account_length</th>\n",
              "      <th>number_vmail_messages</th>\n",
              "      <th>total_day_minutes</th>\n",
              "      <th>total_day_calls</th>\n",
              "      <th>total_day_charge</th>\n",
              "      <th>total_eve_minutes</th>\n",
              "      <th>total_eve_calls</th>\n",
              "      <th>total_eve_charge</th>\n",
              "      <th>total_night_minutes</th>\n",
              "      <th>total_night_calls</th>\n",
              "      <th>total_night_charge</th>\n",
              "      <th>total_intl_minutes</th>\n",
              "      <th>total_intl_calls</th>\n",
              "      <th>total_intl_charge</th>\n",
              "      <th>number_customer_service_calls</th>\n",
              "    </tr>\n",
              "  </thead>\n",
              "  <tbody>\n",
              "    <tr>\n",
              "      <th>count</th>\n",
              "      <td>4250.000000</td>\n",
              "      <td>4250.000000</td>\n",
              "      <td>4250.000000</td>\n",
              "      <td>4250.000000</td>\n",
              "      <td>4250.000000</td>\n",
              "      <td>4250.000000</td>\n",
              "      <td>4250.000000</td>\n",
              "      <td>4250.000000</td>\n",
              "      <td>4250.000000</td>\n",
              "      <td>4250.000000</td>\n",
              "      <td>4250.000000</td>\n",
              "      <td>4250.000000</td>\n",
              "      <td>4250.000000</td>\n",
              "      <td>4250.000000</td>\n",
              "      <td>4250.000000</td>\n",
              "    </tr>\n",
              "    <tr>\n",
              "      <th>mean</th>\n",
              "      <td>100.236235</td>\n",
              "      <td>7.631765</td>\n",
              "      <td>180.259600</td>\n",
              "      <td>99.907294</td>\n",
              "      <td>30.644682</td>\n",
              "      <td>200.173906</td>\n",
              "      <td>100.176471</td>\n",
              "      <td>17.015012</td>\n",
              "      <td>200.527882</td>\n",
              "      <td>99.839529</td>\n",
              "      <td>9.023892</td>\n",
              "      <td>10.256071</td>\n",
              "      <td>4.426353</td>\n",
              "      <td>2.769654</td>\n",
              "      <td>1.559059</td>\n",
              "    </tr>\n",
              "    <tr>\n",
              "      <th>std</th>\n",
              "      <td>39.698401</td>\n",
              "      <td>13.439882</td>\n",
              "      <td>54.012373</td>\n",
              "      <td>19.850817</td>\n",
              "      <td>9.182096</td>\n",
              "      <td>50.249518</td>\n",
              "      <td>19.908591</td>\n",
              "      <td>4.271212</td>\n",
              "      <td>50.353548</td>\n",
              "      <td>20.093220</td>\n",
              "      <td>2.265922</td>\n",
              "      <td>2.760102</td>\n",
              "      <td>2.463069</td>\n",
              "      <td>0.745204</td>\n",
              "      <td>1.311434</td>\n",
              "    </tr>\n",
              "    <tr>\n",
              "      <th>min</th>\n",
              "      <td>1.000000</td>\n",
              "      <td>0.000000</td>\n",
              "      <td>0.000000</td>\n",
              "      <td>0.000000</td>\n",
              "      <td>0.000000</td>\n",
              "      <td>0.000000</td>\n",
              "      <td>0.000000</td>\n",
              "      <td>0.000000</td>\n",
              "      <td>0.000000</td>\n",
              "      <td>0.000000</td>\n",
              "      <td>0.000000</td>\n",
              "      <td>0.000000</td>\n",
              "      <td>0.000000</td>\n",
              "      <td>0.000000</td>\n",
              "      <td>0.000000</td>\n",
              "    </tr>\n",
              "    <tr>\n",
              "      <th>25%</th>\n",
              "      <td>73.000000</td>\n",
              "      <td>0.000000</td>\n",
              "      <td>143.325000</td>\n",
              "      <td>87.000000</td>\n",
              "      <td>24.365000</td>\n",
              "      <td>165.925000</td>\n",
              "      <td>87.000000</td>\n",
              "      <td>14.102500</td>\n",
              "      <td>167.225000</td>\n",
              "      <td>86.000000</td>\n",
              "      <td>7.522500</td>\n",
              "      <td>8.500000</td>\n",
              "      <td>3.000000</td>\n",
              "      <td>2.300000</td>\n",
              "      <td>1.000000</td>\n",
              "    </tr>\n",
              "    <tr>\n",
              "      <th>50%</th>\n",
              "      <td>100.000000</td>\n",
              "      <td>0.000000</td>\n",
              "      <td>180.450000</td>\n",
              "      <td>100.000000</td>\n",
              "      <td>30.680000</td>\n",
              "      <td>200.700000</td>\n",
              "      <td>100.000000</td>\n",
              "      <td>17.060000</td>\n",
              "      <td>200.450000</td>\n",
              "      <td>100.000000</td>\n",
              "      <td>9.020000</td>\n",
              "      <td>10.300000</td>\n",
              "      <td>4.000000</td>\n",
              "      <td>2.780000</td>\n",
              "      <td>1.000000</td>\n",
              "    </tr>\n",
              "    <tr>\n",
              "      <th>75%</th>\n",
              "      <td>127.000000</td>\n",
              "      <td>16.000000</td>\n",
              "      <td>216.200000</td>\n",
              "      <td>113.000000</td>\n",
              "      <td>36.750000</td>\n",
              "      <td>233.775000</td>\n",
              "      <td>114.000000</td>\n",
              "      <td>19.867500</td>\n",
              "      <td>234.700000</td>\n",
              "      <td>113.000000</td>\n",
              "      <td>10.560000</td>\n",
              "      <td>12.000000</td>\n",
              "      <td>6.000000</td>\n",
              "      <td>3.240000</td>\n",
              "      <td>2.000000</td>\n",
              "    </tr>\n",
              "    <tr>\n",
              "      <th>max</th>\n",
              "      <td>243.000000</td>\n",
              "      <td>52.000000</td>\n",
              "      <td>351.500000</td>\n",
              "      <td>165.000000</td>\n",
              "      <td>59.760000</td>\n",
              "      <td>359.300000</td>\n",
              "      <td>170.000000</td>\n",
              "      <td>30.540000</td>\n",
              "      <td>395.000000</td>\n",
              "      <td>175.000000</td>\n",
              "      <td>17.770000</td>\n",
              "      <td>20.000000</td>\n",
              "      <td>20.000000</td>\n",
              "      <td>5.400000</td>\n",
              "      <td>9.000000</td>\n",
              "    </tr>\n",
              "  </tbody>\n",
              "</table>\n",
              "</div>\n",
              "      <button class=\"colab-df-convert\" onclick=\"convertToInteractive('df-bf49bd93-438e-478e-b8da-58a4ec0cf952')\"\n",
              "              title=\"Convert this dataframe to an interactive table.\"\n",
              "              style=\"display:none;\">\n",
              "        \n",
              "  <svg xmlns=\"http://www.w3.org/2000/svg\" height=\"24px\"viewBox=\"0 0 24 24\"\n",
              "       width=\"24px\">\n",
              "    <path d=\"M0 0h24v24H0V0z\" fill=\"none\"/>\n",
              "    <path d=\"M18.56 5.44l.94 2.06.94-2.06 2.06-.94-2.06-.94-.94-2.06-.94 2.06-2.06.94zm-11 1L8.5 8.5l.94-2.06 2.06-.94-2.06-.94L8.5 2.5l-.94 2.06-2.06.94zm10 10l.94 2.06.94-2.06 2.06-.94-2.06-.94-.94-2.06-.94 2.06-2.06.94z\"/><path d=\"M17.41 7.96l-1.37-1.37c-.4-.4-.92-.59-1.43-.59-.52 0-1.04.2-1.43.59L10.3 9.45l-7.72 7.72c-.78.78-.78 2.05 0 2.83L4 21.41c.39.39.9.59 1.41.59.51 0 1.02-.2 1.41-.59l7.78-7.78 2.81-2.81c.8-.78.8-2.07 0-2.86zM5.41 20L4 18.59l7.72-7.72 1.47 1.35L5.41 20z\"/>\n",
              "  </svg>\n",
              "      </button>\n",
              "      \n",
              "  <style>\n",
              "    .colab-df-container {\n",
              "      display:flex;\n",
              "      flex-wrap:wrap;\n",
              "      gap: 12px;\n",
              "    }\n",
              "\n",
              "    .colab-df-convert {\n",
              "      background-color: #E8F0FE;\n",
              "      border: none;\n",
              "      border-radius: 50%;\n",
              "      cursor: pointer;\n",
              "      display: none;\n",
              "      fill: #1967D2;\n",
              "      height: 32px;\n",
              "      padding: 0 0 0 0;\n",
              "      width: 32px;\n",
              "    }\n",
              "\n",
              "    .colab-df-convert:hover {\n",
              "      background-color: #E2EBFA;\n",
              "      box-shadow: 0px 1px 2px rgba(60, 64, 67, 0.3), 0px 1px 3px 1px rgba(60, 64, 67, 0.15);\n",
              "      fill: #174EA6;\n",
              "    }\n",
              "\n",
              "    [theme=dark] .colab-df-convert {\n",
              "      background-color: #3B4455;\n",
              "      fill: #D2E3FC;\n",
              "    }\n",
              "\n",
              "    [theme=dark] .colab-df-convert:hover {\n",
              "      background-color: #434B5C;\n",
              "      box-shadow: 0px 1px 3px 1px rgba(0, 0, 0, 0.15);\n",
              "      filter: drop-shadow(0px 1px 2px rgba(0, 0, 0, 0.3));\n",
              "      fill: #FFFFFF;\n",
              "    }\n",
              "  </style>\n",
              "\n",
              "      <script>\n",
              "        const buttonEl =\n",
              "          document.querySelector('#df-bf49bd93-438e-478e-b8da-58a4ec0cf952 button.colab-df-convert');\n",
              "        buttonEl.style.display =\n",
              "          google.colab.kernel.accessAllowed ? 'block' : 'none';\n",
              "\n",
              "        async function convertToInteractive(key) {\n",
              "          const element = document.querySelector('#df-bf49bd93-438e-478e-b8da-58a4ec0cf952');\n",
              "          const dataTable =\n",
              "            await google.colab.kernel.invokeFunction('convertToInteractive',\n",
              "                                                     [key], {});\n",
              "          if (!dataTable) return;\n",
              "\n",
              "          const docLinkHtml = 'Like what you see? Visit the ' +\n",
              "            '<a target=\"_blank\" href=https://colab.research.google.com/notebooks/data_table.ipynb>data table notebook</a>'\n",
              "            + ' to learn more about interactive tables.';\n",
              "          element.innerHTML = '';\n",
              "          dataTable['output_type'] = 'display_data';\n",
              "          await google.colab.output.renderOutput(dataTable, element);\n",
              "          const docLink = document.createElement('div');\n",
              "          docLink.innerHTML = docLinkHtml;\n",
              "          element.appendChild(docLink);\n",
              "        }\n",
              "      </script>\n",
              "    </div>\n",
              "  </div>\n",
              "  "
            ]
          },
          "metadata": {},
          "execution_count": 25
        }
      ]
    },
    {
      "cell_type": "markdown",
      "source": [
        "# **PROSES PREPROSESING**"
      ],
      "metadata": {
        "id": "ladVQ71WMste"
      }
    },
    {
      "cell_type": "code",
      "source": [
        "kolom_numerik = ['account_length', 'number_vmail_messages', 'total_day_minutes',\n",
        "       'total_day_calls', 'total_day_charge', 'total_eve_minutes',\n",
        "       'total_eve_calls', 'total_eve_charge', 'total_night_minutes',\n",
        "       'total_night_calls', 'total_night_charge', 'total_intl_minutes',\n",
        "       'total_intl_calls', 'total_intl_charge',\n",
        "       'number_customer_service_calls']"
      ],
      "metadata": {
        "id": "0_KLu3hQNBgm"
      },
      "execution_count": null,
      "outputs": []
    },
    {
      "cell_type": "code",
      "source": [
        "scaler = MinMaxScaler()\n",
        "df_train[kolom_numerik] = scaler.fit_transform(df_train[kolom_numerik])"
      ],
      "metadata": {
        "id": "WTbMzCf0Nla2"
      },
      "execution_count": null,
      "outputs": []
    },
    {
      "cell_type": "code",
      "source": [
        "EN = LabelEncoder()\n",
        "\n",
        "df_train['state'] = EN.fit_transform(df_train['state'])\n",
        "\n",
        "df_train['area_code'] = EN.fit_transform(df_train['area_code'])\n",
        "\n",
        "df_train['voice_mail_plan'] = EN.fit_transform(df_train['voice_mail_plan'])\n",
        "\n",
        "df_train['international_plan'] = EN.fit_transform(df_train['international_plan'])\n",
        "\n",
        "df_train['churn'] = EN.fit_transform(df_train['churn'])"
      ],
      "metadata": {
        "id": "3VXt6v2aN7qd"
      },
      "execution_count": null,
      "outputs": []
    },
    {
      "cell_type": "code",
      "source": [
        "X = df_train.drop(['churn'], axis = 1)\n",
        "y = df_train['churn']"
      ],
      "metadata": {
        "id": "gsGlldGlO3JB"
      },
      "execution_count": null,
      "outputs": []
    },
    {
      "cell_type": "code",
      "source": [
        "X_train, X_test, y_train, y_test = train_test_split(X, y, test_size = 0.2, random_state = 0)"
      ],
      "metadata": {
        "id": "nk5des0aPGOc"
      },
      "execution_count": null,
      "outputs": []
    },
    {
      "cell_type": "code",
      "source": [
        "from imblearn.over_sampling import SMOTE\n",
        "oversample = SMOTE()\n",
        "X_train_resh, y_train_resh = oversample.fit_resample(X_train, y_train.ravel())"
      ],
      "metadata": {
        "id": "AYPykpRUPNB-"
      },
      "execution_count": null,
      "outputs": []
    },
    {
      "cell_type": "markdown",
      "source": [
        "# **TIDAK MENGGUNAKAN SMOTE DAN HYPERPARAMETER**"
      ],
      "metadata": {
        "id": "0Q6K_rtm9GHD"
      }
    },
    {
      "cell_type": "markdown",
      "source": [
        "# **MODEL TREE**"
      ],
      "metadata": {
        "id": "xXcueQFp9vbP"
      }
    },
    {
      "cell_type": "code",
      "source": [
        "from sklearn.metrics import accuracy_score, classification_report, confusion_matrix"
      ],
      "metadata": {
        "id": "a7DXK-K19J_j"
      },
      "execution_count": null,
      "outputs": []
    },
    {
      "cell_type": "code",
      "source": [
        "from sklearn.tree import DecisionTreeRegressor,DecisionTreeClassifier\n",
        "tree_model = DecisionTreeClassifier() \n",
        " \n",
        "#Melatih model dengan menggunakan data latih\n",
        "tree_model = tree_model.fit(X_train, y_train)"
      ],
      "metadata": {
        "id": "9c5JcOXi9hdH"
      },
      "execution_count": null,
      "outputs": []
    },
    {
      "cell_type": "code",
      "source": [
        "from sklearn.metrics import accuracy_score\n",
        " \n",
        "y_pred = tree_model.predict(X_test)\n",
        " \n",
        "acc_secore = round(accuracy_score(y_pred, y_test), 3)\n",
        " \n",
        "print('Accuracy: ', acc_secore)"
      ],
      "metadata": {
        "colab": {
          "base_uri": "https://localhost:8080/"
        },
        "id": "p89FH9Iu9ryR",
        "outputId": "1bc79e07-7048-43f9-a608-9244b6e16b67"
      },
      "execution_count": null,
      "outputs": [
        {
          "output_type": "stream",
          "name": "stdout",
          "text": [
            "Accuracy:  0.918\n"
          ]
        }
      ]
    },
    {
      "cell_type": "code",
      "source": [
        "print('Training Accuracy :', tree_model.score(X_train, y_train))\n",
        "print('Testing Accuracy :', tree_model.score(X_test, y_test))"
      ],
      "metadata": {
        "colab": {
          "base_uri": "https://localhost:8080/"
        },
        "id": "3BHhRNvx93PR",
        "outputId": "c22fc5ca-c137-4160-e923-48861553321b"
      },
      "execution_count": null,
      "outputs": [
        {
          "output_type": "stream",
          "name": "stdout",
          "text": [
            "Training Accuracy : 1.0\n",
            "Testing Accuracy : 0.9176470588235294\n"
          ]
        }
      ]
    },
    {
      "cell_type": "code",
      "source": [
        "print('Mean f1 scores')\n",
        "print('tree model :',cross_val_score(tree_model,X_train, y_train,cv=10,scoring='f1').mean())"
      ],
      "metadata": {
        "colab": {
          "base_uri": "https://localhost:8080/"
        },
        "id": "TKalPFxW99y_",
        "outputId": "d721736c-c7bc-4fbf-fec1-7a3d9f5c371a"
      },
      "execution_count": null,
      "outputs": [
        {
          "output_type": "stream",
          "name": "stdout",
          "text": [
            "Mean f1 scores\n",
            "tree model : 0.6894816432952653\n"
          ]
        }
      ]
    },
    {
      "cell_type": "code",
      "source": [
        "cr = classification_report(y_test, y_pred)\n",
        "print(cr)"
      ],
      "metadata": {
        "colab": {
          "base_uri": "https://localhost:8080/"
        },
        "id": "edjFgG6o-C-s",
        "outputId": "40e93350-1dad-44c4-b39f-399651dad74a"
      },
      "execution_count": null,
      "outputs": [
        {
          "output_type": "stream",
          "name": "stdout",
          "text": [
            "              precision    recall  f1-score   support\n",
            "\n",
            "           0       0.96      0.94      0.95       735\n",
            "           1       0.67      0.77      0.72       115\n",
            "\n",
            "    accuracy                           0.92       850\n",
            "   macro avg       0.82      0.85      0.83       850\n",
            "weighted avg       0.92      0.92      0.92       850\n",
            "\n"
          ]
        }
      ]
    },
    {
      "cell_type": "code",
      "source": [
        "cm = confusion_matrix(y_test, y_pred)\n",
        "print(cm)"
      ],
      "metadata": {
        "colab": {
          "base_uri": "https://localhost:8080/"
        },
        "id": "j-SVs6yk-Dua",
        "outputId": "c5b284c0-1ab8-4ee1-d203-39d0b4439982"
      },
      "execution_count": null,
      "outputs": [
        {
          "output_type": "stream",
          "name": "stdout",
          "text": [
            "[[692  43]\n",
            " [ 27  88]]\n"
          ]
        }
      ]
    },
    {
      "cell_type": "markdown",
      "source": [
        "# **MODEL SVM**"
      ],
      "metadata": {
        "id": "jUyp6Jesb0LY"
      }
    },
    {
      "cell_type": "code",
      "source": [
        "from sklearn.svm import SVC\n",
        "svm_model = SVC()\n",
        "svm_model = svm_model.fit(X_train, y_train)"
      ],
      "metadata": {
        "id": "9xxeh1zsb2lp"
      },
      "execution_count": null,
      "outputs": []
    },
    {
      "cell_type": "code",
      "source": [
        "y_pred = svm_model.predict(X_test)\n",
        " \n",
        "acc_secore = round(accuracy_score(y_pred, y_test), 3)\n",
        " \n",
        "print('Accuracy: ', acc_secore)"
      ],
      "metadata": {
        "colab": {
          "base_uri": "https://localhost:8080/"
        },
        "id": "IY_M5GYrcBHv",
        "outputId": "74fbabe6-7575-454f-faa3-a1ec3d9ffab3"
      },
      "execution_count": null,
      "outputs": [
        {
          "output_type": "stream",
          "name": "stdout",
          "text": [
            "Accuracy:  0.865\n"
          ]
        }
      ]
    },
    {
      "cell_type": "code",
      "source": [
        "print('Training Accuracy :', svm_model.score(X_train, y_train))\n",
        "print('Testing Accuracy :', svm_model.score(X_test, y_test))"
      ],
      "metadata": {
        "colab": {
          "base_uri": "https://localhost:8080/"
        },
        "id": "xzBwsR8ScF6J",
        "outputId": "c09dacf1-00bc-45e4-990f-2b0221ea4b11"
      },
      "execution_count": null,
      "outputs": [
        {
          "output_type": "stream",
          "name": "stdout",
          "text": [
            "Training Accuracy : 0.8579411764705882\n",
            "Testing Accuracy : 0.8647058823529412\n"
          ]
        }
      ]
    },
    {
      "cell_type": "code",
      "source": [
        "cr = classification_report(y_test, y_pred)\n",
        "print(cr)"
      ],
      "metadata": {
        "colab": {
          "base_uri": "https://localhost:8080/"
        },
        "id": "BVkA63j3cL8T",
        "outputId": "f16bfaef-d88a-41fc-cae1-7836ac37ede7"
      },
      "execution_count": null,
      "outputs": [
        {
          "output_type": "stream",
          "name": "stdout",
          "text": [
            "              precision    recall  f1-score   support\n",
            "\n",
            "           0       0.86      1.00      0.93       735\n",
            "           1       0.00      0.00      0.00       115\n",
            "\n",
            "    accuracy                           0.86       850\n",
            "   macro avg       0.43      0.50      0.46       850\n",
            "weighted avg       0.75      0.86      0.80       850\n",
            "\n"
          ]
        },
        {
          "output_type": "stream",
          "name": "stderr",
          "text": [
            "/usr/local/lib/python3.9/dist-packages/sklearn/metrics/_classification.py:1344: UndefinedMetricWarning: Precision and F-score are ill-defined and being set to 0.0 in labels with no predicted samples. Use `zero_division` parameter to control this behavior.\n",
            "  _warn_prf(average, modifier, msg_start, len(result))\n",
            "/usr/local/lib/python3.9/dist-packages/sklearn/metrics/_classification.py:1344: UndefinedMetricWarning: Precision and F-score are ill-defined and being set to 0.0 in labels with no predicted samples. Use `zero_division` parameter to control this behavior.\n",
            "  _warn_prf(average, modifier, msg_start, len(result))\n",
            "/usr/local/lib/python3.9/dist-packages/sklearn/metrics/_classification.py:1344: UndefinedMetricWarning: Precision and F-score are ill-defined and being set to 0.0 in labels with no predicted samples. Use `zero_division` parameter to control this behavior.\n",
            "  _warn_prf(average, modifier, msg_start, len(result))\n"
          ]
        }
      ]
    },
    {
      "cell_type": "code",
      "source": [
        "cm = confusion_matrix(y_test, y_pred)\n",
        "print(cm)"
      ],
      "metadata": {
        "colab": {
          "base_uri": "https://localhost:8080/"
        },
        "id": "y-oHcNPycQx3",
        "outputId": "f74aeaea-79e7-45a6-c019-d917ebdc9d5c"
      },
      "execution_count": null,
      "outputs": [
        {
          "output_type": "stream",
          "name": "stdout",
          "text": [
            "[[735   0]\n",
            " [115   0]]\n"
          ]
        }
      ]
    },
    {
      "cell_type": "markdown",
      "source": [
        "# **RANDOM FOREST**"
      ],
      "metadata": {
        "id": "e-8-bz91cU0u"
      }
    },
    {
      "cell_type": "code",
      "source": [
        "rf_model = RandomForestClassifier()\n",
        "rf_history = rf_model.fit(X_train, y_train)"
      ],
      "metadata": {
        "id": "cZXTLbq_cZtd"
      },
      "execution_count": null,
      "outputs": []
    },
    {
      "cell_type": "code",
      "source": [
        "from sklearn.metrics import accuracy_score\n",
        " \n",
        "y_pred = rf_history.predict(X_test)\n",
        " \n",
        "acc_secore = round(accuracy_score(y_pred, y_test), 3)\n",
        " \n",
        "print('Accuracy: ', acc_secore)"
      ],
      "metadata": {
        "colab": {
          "base_uri": "https://localhost:8080/"
        },
        "id": "Em3HZf2DcjjW",
        "outputId": "7831afa1-b7dd-4620-cf47-a168d18b8b8b"
      },
      "execution_count": null,
      "outputs": [
        {
          "output_type": "stream",
          "name": "stdout",
          "text": [
            "Accuracy:  0.966\n"
          ]
        }
      ]
    },
    {
      "cell_type": "code",
      "source": [
        "print('Training Accuracy :', rf_history.score(X_train, y_train))\n",
        "print('Testing Accuracy :', rf_history.score(X_test, y_test))"
      ],
      "metadata": {
        "colab": {
          "base_uri": "https://localhost:8080/"
        },
        "id": "ttmZ4aaXcvq1",
        "outputId": "e7a086e4-6b0c-4df7-ef10-d61bfcb05a07"
      },
      "execution_count": null,
      "outputs": [
        {
          "output_type": "stream",
          "name": "stdout",
          "text": [
            "Training Accuracy : 1.0\n",
            "Testing Accuracy : 0.9658823529411765\n"
          ]
        }
      ]
    },
    {
      "cell_type": "code",
      "source": [
        "cr = classification_report(y_test, y_pred)\n",
        "print(cr)"
      ],
      "metadata": {
        "colab": {
          "base_uri": "https://localhost:8080/"
        },
        "id": "y7bdnL1Tc1HX",
        "outputId": "890912cd-7008-4aff-8ddc-aa105764dfe6"
      },
      "execution_count": null,
      "outputs": [
        {
          "output_type": "stream",
          "name": "stdout",
          "text": [
            "              precision    recall  f1-score   support\n",
            "\n",
            "           0       0.96      1.00      0.98       735\n",
            "           1       0.99      0.76      0.86       115\n",
            "\n",
            "    accuracy                           0.97       850\n",
            "   macro avg       0.98      0.88      0.92       850\n",
            "weighted avg       0.97      0.97      0.96       850\n",
            "\n"
          ]
        }
      ]
    },
    {
      "cell_type": "code",
      "source": [
        "cm = confusion_matrix(y_test, y_pred)\n",
        "print(cm)"
      ],
      "metadata": {
        "colab": {
          "base_uri": "https://localhost:8080/"
        },
        "id": "0_TCQI4Sc6Tu",
        "outputId": "cbe620ce-36e9-48c8-a2e2-196287f13648"
      },
      "execution_count": null,
      "outputs": [
        {
          "output_type": "stream",
          "name": "stdout",
          "text": [
            "[[734   1]\n",
            " [ 28  87]]\n"
          ]
        }
      ]
    },
    {
      "cell_type": "markdown",
      "source": [
        "# **XGBOOST MODEL**"
      ],
      "metadata": {
        "id": "-ms5zW3Uc8wH"
      }
    },
    {
      "cell_type": "code",
      "source": [
        "import xgboost as xgb\n",
        "xgb_clf = xgb.XGBClassifier()\n",
        "xgb_clf.fit(X_train, y_train)"
      ],
      "metadata": {
        "colab": {
          "base_uri": "https://localhost:8080/",
          "height": 248
        },
        "id": "EB1LUmgPdEyP",
        "outputId": "ccecc6d5-6577-4702-9a41-56375775651e"
      },
      "execution_count": null,
      "outputs": [
        {
          "output_type": "execute_result",
          "data": {
            "text/plain": [
              "XGBClassifier(base_score=None, booster=None, callbacks=None,\n",
              "              colsample_bylevel=None, colsample_bynode=None,\n",
              "              colsample_bytree=None, early_stopping_rounds=None,\n",
              "              enable_categorical=False, eval_metric=None, feature_types=None,\n",
              "              gamma=None, gpu_id=None, grow_policy=None, importance_type=None,\n",
              "              interaction_constraints=None, learning_rate=None, max_bin=None,\n",
              "              max_cat_threshold=None, max_cat_to_onehot=None,\n",
              "              max_delta_step=None, max_depth=None, max_leaves=None,\n",
              "              min_child_weight=None, missing=nan, monotone_constraints=None,\n",
              "              n_estimators=100, n_jobs=None, num_parallel_tree=None,\n",
              "              predictor=None, random_state=None, ...)"
            ],
            "text/html": [
              "<style>#sk-container-id-1 {color: black;background-color: white;}#sk-container-id-1 pre{padding: 0;}#sk-container-id-1 div.sk-toggleable {background-color: white;}#sk-container-id-1 label.sk-toggleable__label {cursor: pointer;display: block;width: 100%;margin-bottom: 0;padding: 0.3em;box-sizing: border-box;text-align: center;}#sk-container-id-1 label.sk-toggleable__label-arrow:before {content: \"▸\";float: left;margin-right: 0.25em;color: #696969;}#sk-container-id-1 label.sk-toggleable__label-arrow:hover:before {color: black;}#sk-container-id-1 div.sk-estimator:hover label.sk-toggleable__label-arrow:before {color: black;}#sk-container-id-1 div.sk-toggleable__content {max-height: 0;max-width: 0;overflow: hidden;text-align: left;background-color: #f0f8ff;}#sk-container-id-1 div.sk-toggleable__content pre {margin: 0.2em;color: black;border-radius: 0.25em;background-color: #f0f8ff;}#sk-container-id-1 input.sk-toggleable__control:checked~div.sk-toggleable__content {max-height: 200px;max-width: 100%;overflow: auto;}#sk-container-id-1 input.sk-toggleable__control:checked~label.sk-toggleable__label-arrow:before {content: \"▾\";}#sk-container-id-1 div.sk-estimator input.sk-toggleable__control:checked~label.sk-toggleable__label {background-color: #d4ebff;}#sk-container-id-1 div.sk-label input.sk-toggleable__control:checked~label.sk-toggleable__label {background-color: #d4ebff;}#sk-container-id-1 input.sk-hidden--visually {border: 0;clip: rect(1px 1px 1px 1px);clip: rect(1px, 1px, 1px, 1px);height: 1px;margin: -1px;overflow: hidden;padding: 0;position: absolute;width: 1px;}#sk-container-id-1 div.sk-estimator {font-family: monospace;background-color: #f0f8ff;border: 1px dotted black;border-radius: 0.25em;box-sizing: border-box;margin-bottom: 0.5em;}#sk-container-id-1 div.sk-estimator:hover {background-color: #d4ebff;}#sk-container-id-1 div.sk-parallel-item::after {content: \"\";width: 100%;border-bottom: 1px solid gray;flex-grow: 1;}#sk-container-id-1 div.sk-label:hover label.sk-toggleable__label {background-color: #d4ebff;}#sk-container-id-1 div.sk-serial::before {content: \"\";position: absolute;border-left: 1px solid gray;box-sizing: border-box;top: 0;bottom: 0;left: 50%;z-index: 0;}#sk-container-id-1 div.sk-serial {display: flex;flex-direction: column;align-items: center;background-color: white;padding-right: 0.2em;padding-left: 0.2em;position: relative;}#sk-container-id-1 div.sk-item {position: relative;z-index: 1;}#sk-container-id-1 div.sk-parallel {display: flex;align-items: stretch;justify-content: center;background-color: white;position: relative;}#sk-container-id-1 div.sk-item::before, #sk-container-id-1 div.sk-parallel-item::before {content: \"\";position: absolute;border-left: 1px solid gray;box-sizing: border-box;top: 0;bottom: 0;left: 50%;z-index: -1;}#sk-container-id-1 div.sk-parallel-item {display: flex;flex-direction: column;z-index: 1;position: relative;background-color: white;}#sk-container-id-1 div.sk-parallel-item:first-child::after {align-self: flex-end;width: 50%;}#sk-container-id-1 div.sk-parallel-item:last-child::after {align-self: flex-start;width: 50%;}#sk-container-id-1 div.sk-parallel-item:only-child::after {width: 0;}#sk-container-id-1 div.sk-dashed-wrapped {border: 1px dashed gray;margin: 0 0.4em 0.5em 0.4em;box-sizing: border-box;padding-bottom: 0.4em;background-color: white;}#sk-container-id-1 div.sk-label label {font-family: monospace;font-weight: bold;display: inline-block;line-height: 1.2em;}#sk-container-id-1 div.sk-label-container {text-align: center;}#sk-container-id-1 div.sk-container {/* jupyter's `normalize.less` sets `[hidden] { display: none; }` but bootstrap.min.css set `[hidden] { display: none !important; }` so we also need the `!important` here to be able to override the default hidden behavior on the sphinx rendered scikit-learn.org. See: https://github.com/scikit-learn/scikit-learn/issues/21755 */display: inline-block !important;position: relative;}#sk-container-id-1 div.sk-text-repr-fallback {display: none;}</style><div id=\"sk-container-id-1\" class=\"sk-top-container\"><div class=\"sk-text-repr-fallback\"><pre>XGBClassifier(base_score=None, booster=None, callbacks=None,\n",
              "              colsample_bylevel=None, colsample_bynode=None,\n",
              "              colsample_bytree=None, early_stopping_rounds=None,\n",
              "              enable_categorical=False, eval_metric=None, feature_types=None,\n",
              "              gamma=None, gpu_id=None, grow_policy=None, importance_type=None,\n",
              "              interaction_constraints=None, learning_rate=None, max_bin=None,\n",
              "              max_cat_threshold=None, max_cat_to_onehot=None,\n",
              "              max_delta_step=None, max_depth=None, max_leaves=None,\n",
              "              min_child_weight=None, missing=nan, monotone_constraints=None,\n",
              "              n_estimators=100, n_jobs=None, num_parallel_tree=None,\n",
              "              predictor=None, random_state=None, ...)</pre><b>In a Jupyter environment, please rerun this cell to show the HTML representation or trust the notebook. <br />On GitHub, the HTML representation is unable to render, please try loading this page with nbviewer.org.</b></div><div class=\"sk-container\" hidden><div class=\"sk-item\"><div class=\"sk-estimator sk-toggleable\"><input class=\"sk-toggleable__control sk-hidden--visually\" id=\"sk-estimator-id-1\" type=\"checkbox\" checked><label for=\"sk-estimator-id-1\" class=\"sk-toggleable__label sk-toggleable__label-arrow\">XGBClassifier</label><div class=\"sk-toggleable__content\"><pre>XGBClassifier(base_score=None, booster=None, callbacks=None,\n",
              "              colsample_bylevel=None, colsample_bynode=None,\n",
              "              colsample_bytree=None, early_stopping_rounds=None,\n",
              "              enable_categorical=False, eval_metric=None, feature_types=None,\n",
              "              gamma=None, gpu_id=None, grow_policy=None, importance_type=None,\n",
              "              interaction_constraints=None, learning_rate=None, max_bin=None,\n",
              "              max_cat_threshold=None, max_cat_to_onehot=None,\n",
              "              max_delta_step=None, max_depth=None, max_leaves=None,\n",
              "              min_child_weight=None, missing=nan, monotone_constraints=None,\n",
              "              n_estimators=100, n_jobs=None, num_parallel_tree=None,\n",
              "              predictor=None, random_state=None, ...)</pre></div></div></div></div></div>"
            ]
          },
          "metadata": {},
          "execution_count": 34
        }
      ]
    },
    {
      "cell_type": "code",
      "source": [
        "y_pred = xgb_clf.predict(X_test)\n",
        "accuracy = accuracy_score(y_test, y_pred)\n",
        "print(\"Accuracy:\", accuracy)"
      ],
      "metadata": {
        "colab": {
          "base_uri": "https://localhost:8080/"
        },
        "id": "hFF1JNxgdXIn",
        "outputId": "6b99fd6c-f1c5-452a-b597-a26399a82028"
      },
      "execution_count": null,
      "outputs": [
        {
          "output_type": "stream",
          "name": "stdout",
          "text": [
            "Accuracy: 0.9670588235294117\n"
          ]
        }
      ]
    },
    {
      "cell_type": "code",
      "source": [
        "print('Training Accuracy :', rf_history.score(X_train, y_train))\n",
        "print('Testing Accuracy :', rf_history.score(X_test, y_test))"
      ],
      "metadata": {
        "colab": {
          "base_uri": "https://localhost:8080/"
        },
        "id": "Yvp2hHn1dfHv",
        "outputId": "67ba39a2-c3b6-4db4-c192-0a2f567d579c"
      },
      "execution_count": null,
      "outputs": [
        {
          "output_type": "stream",
          "name": "stdout",
          "text": [
            "Training Accuracy : 1.0\n",
            "Testing Accuracy : 0.9658823529411765\n"
          ]
        }
      ]
    },
    {
      "cell_type": "code",
      "source": [
        "cr = classification_report(y_test, y_pred)\n",
        "print(cr)"
      ],
      "metadata": {
        "colab": {
          "base_uri": "https://localhost:8080/"
        },
        "id": "2EQT4sC4dmtZ",
        "outputId": "dc27936e-5ade-4b10-9b4d-882117a1ebac"
      },
      "execution_count": null,
      "outputs": [
        {
          "output_type": "stream",
          "name": "stdout",
          "text": [
            "              precision    recall  f1-score   support\n",
            "\n",
            "           0       0.97      1.00      0.98       735\n",
            "           1       0.98      0.77      0.86       115\n",
            "\n",
            "    accuracy                           0.97       850\n",
            "   macro avg       0.97      0.89      0.92       850\n",
            "weighted avg       0.97      0.97      0.97       850\n",
            "\n"
          ]
        }
      ]
    },
    {
      "cell_type": "code",
      "source": [
        "cm = confusion_matrix(y_test, y_pred)\n",
        "print(cm)"
      ],
      "metadata": {
        "colab": {
          "base_uri": "https://localhost:8080/"
        },
        "id": "kYIlIe4CdqGa",
        "outputId": "61f5a117-83ec-43e4-b202-9bc7fb830b60"
      },
      "execution_count": null,
      "outputs": [
        {
          "output_type": "stream",
          "name": "stdout",
          "text": [
            "[[733   2]\n",
            " [ 26  89]]\n"
          ]
        }
      ]
    },
    {
      "cell_type": "markdown",
      "source": [
        "# **MENGGUNAKAN SMOTE DAN HYPERPARAMETER**"
      ],
      "metadata": {
        "id": "h24CKrcw9Kzl"
      }
    },
    {
      "cell_type": "markdown",
      "source": [
        "# **MODEL POHON KEPUTUSAN**"
      ],
      "metadata": {
        "id": "MORySLLvPgho"
      }
    },
    {
      "cell_type": "code",
      "source": [
        "from sklearn.metrics import accuracy_score, classification_report, confusion_matrix\n",
        "from sklearn.model_selection import RandomizedSearchCV, GridSearchCV"
      ],
      "metadata": {
        "id": "CusWpuU2QTbj"
      },
      "execution_count": null,
      "outputs": []
    },
    {
      "cell_type": "code",
      "source": [
        "param_grid = {\n",
        "    'max_depth': [2, 3, 4, 5], 'min_samples_leaf': [1, 2, 3, 4, 5]\n",
        "}"
      ],
      "metadata": {
        "id": "wKgSmGOUL7If"
      },
      "execution_count": null,
      "outputs": []
    },
    {
      "cell_type": "code",
      "source": [
        "from sklearn.tree import DecisionTreeRegressor,DecisionTreeClassifier\n",
        "tree_model = DecisionTreeClassifier() \n",
        " \n",
        "# Melatih model dengan menggunakan data latih\n",
        "#tree_model = tree_model.fit(X_train_resh, y_train_resh)"
      ],
      "metadata": {
        "id": "qC9ttjwkPcM_"
      },
      "execution_count": null,
      "outputs": []
    },
    {
      "cell_type": "code",
      "source": [
        "random_search_DTC = GridSearchCV(tree_model, param_grid, cv=5)"
      ],
      "metadata": {
        "id": "YwZv-H26MLlh"
      },
      "execution_count": null,
      "outputs": []
    },
    {
      "cell_type": "code",
      "source": [
        "random_search_DTC.fit(X_train_resh, y_train_resh)"
      ],
      "metadata": {
        "colab": {
          "base_uri": "https://localhost:8080/",
          "height": 117
        },
        "id": "JYIlVcgeMUyO",
        "outputId": "02b10b19-0df0-4c68-f84b-eae4da7ed714"
      },
      "execution_count": null,
      "outputs": [
        {
          "output_type": "execute_result",
          "data": {
            "text/plain": [
              "GridSearchCV(cv=5, estimator=DecisionTreeClassifier(),\n",
              "             param_grid={'max_depth': [2, 3, 4, 5],\n",
              "                         'min_samples_leaf': [1, 2, 3, 4, 5]})"
            ],
            "text/html": [
              "<style>#sk-container-id-2 {color: black;background-color: white;}#sk-container-id-2 pre{padding: 0;}#sk-container-id-2 div.sk-toggleable {background-color: white;}#sk-container-id-2 label.sk-toggleable__label {cursor: pointer;display: block;width: 100%;margin-bottom: 0;padding: 0.3em;box-sizing: border-box;text-align: center;}#sk-container-id-2 label.sk-toggleable__label-arrow:before {content: \"▸\";float: left;margin-right: 0.25em;color: #696969;}#sk-container-id-2 label.sk-toggleable__label-arrow:hover:before {color: black;}#sk-container-id-2 div.sk-estimator:hover label.sk-toggleable__label-arrow:before {color: black;}#sk-container-id-2 div.sk-toggleable__content {max-height: 0;max-width: 0;overflow: hidden;text-align: left;background-color: #f0f8ff;}#sk-container-id-2 div.sk-toggleable__content pre {margin: 0.2em;color: black;border-radius: 0.25em;background-color: #f0f8ff;}#sk-container-id-2 input.sk-toggleable__control:checked~div.sk-toggleable__content {max-height: 200px;max-width: 100%;overflow: auto;}#sk-container-id-2 input.sk-toggleable__control:checked~label.sk-toggleable__label-arrow:before {content: \"▾\";}#sk-container-id-2 div.sk-estimator input.sk-toggleable__control:checked~label.sk-toggleable__label {background-color: #d4ebff;}#sk-container-id-2 div.sk-label input.sk-toggleable__control:checked~label.sk-toggleable__label {background-color: #d4ebff;}#sk-container-id-2 input.sk-hidden--visually {border: 0;clip: rect(1px 1px 1px 1px);clip: rect(1px, 1px, 1px, 1px);height: 1px;margin: -1px;overflow: hidden;padding: 0;position: absolute;width: 1px;}#sk-container-id-2 div.sk-estimator {font-family: monospace;background-color: #f0f8ff;border: 1px dotted black;border-radius: 0.25em;box-sizing: border-box;margin-bottom: 0.5em;}#sk-container-id-2 div.sk-estimator:hover {background-color: #d4ebff;}#sk-container-id-2 div.sk-parallel-item::after {content: \"\";width: 100%;border-bottom: 1px solid gray;flex-grow: 1;}#sk-container-id-2 div.sk-label:hover label.sk-toggleable__label {background-color: #d4ebff;}#sk-container-id-2 div.sk-serial::before {content: \"\";position: absolute;border-left: 1px solid gray;box-sizing: border-box;top: 0;bottom: 0;left: 50%;z-index: 0;}#sk-container-id-2 div.sk-serial {display: flex;flex-direction: column;align-items: center;background-color: white;padding-right: 0.2em;padding-left: 0.2em;position: relative;}#sk-container-id-2 div.sk-item {position: relative;z-index: 1;}#sk-container-id-2 div.sk-parallel {display: flex;align-items: stretch;justify-content: center;background-color: white;position: relative;}#sk-container-id-2 div.sk-item::before, #sk-container-id-2 div.sk-parallel-item::before {content: \"\";position: absolute;border-left: 1px solid gray;box-sizing: border-box;top: 0;bottom: 0;left: 50%;z-index: -1;}#sk-container-id-2 div.sk-parallel-item {display: flex;flex-direction: column;z-index: 1;position: relative;background-color: white;}#sk-container-id-2 div.sk-parallel-item:first-child::after {align-self: flex-end;width: 50%;}#sk-container-id-2 div.sk-parallel-item:last-child::after {align-self: flex-start;width: 50%;}#sk-container-id-2 div.sk-parallel-item:only-child::after {width: 0;}#sk-container-id-2 div.sk-dashed-wrapped {border: 1px dashed gray;margin: 0 0.4em 0.5em 0.4em;box-sizing: border-box;padding-bottom: 0.4em;background-color: white;}#sk-container-id-2 div.sk-label label {font-family: monospace;font-weight: bold;display: inline-block;line-height: 1.2em;}#sk-container-id-2 div.sk-label-container {text-align: center;}#sk-container-id-2 div.sk-container {/* jupyter's `normalize.less` sets `[hidden] { display: none; }` but bootstrap.min.css set `[hidden] { display: none !important; }` so we also need the `!important` here to be able to override the default hidden behavior on the sphinx rendered scikit-learn.org. See: https://github.com/scikit-learn/scikit-learn/issues/21755 */display: inline-block !important;position: relative;}#sk-container-id-2 div.sk-text-repr-fallback {display: none;}</style><div id=\"sk-container-id-2\" class=\"sk-top-container\"><div class=\"sk-text-repr-fallback\"><pre>GridSearchCV(cv=5, estimator=DecisionTreeClassifier(),\n",
              "             param_grid={&#x27;max_depth&#x27;: [2, 3, 4, 5],\n",
              "                         &#x27;min_samples_leaf&#x27;: [1, 2, 3, 4, 5]})</pre><b>In a Jupyter environment, please rerun this cell to show the HTML representation or trust the notebook. <br />On GitHub, the HTML representation is unable to render, please try loading this page with nbviewer.org.</b></div><div class=\"sk-container\" hidden><div class=\"sk-item sk-dashed-wrapped\"><div class=\"sk-label-container\"><div class=\"sk-label sk-toggleable\"><input class=\"sk-toggleable__control sk-hidden--visually\" id=\"sk-estimator-id-4\" type=\"checkbox\" ><label for=\"sk-estimator-id-4\" class=\"sk-toggleable__label sk-toggleable__label-arrow\">GridSearchCV</label><div class=\"sk-toggleable__content\"><pre>GridSearchCV(cv=5, estimator=DecisionTreeClassifier(),\n",
              "             param_grid={&#x27;max_depth&#x27;: [2, 3, 4, 5],\n",
              "                         &#x27;min_samples_leaf&#x27;: [1, 2, 3, 4, 5]})</pre></div></div></div><div class=\"sk-parallel\"><div class=\"sk-parallel-item\"><div class=\"sk-item\"><div class=\"sk-label-container\"><div class=\"sk-label sk-toggleable\"><input class=\"sk-toggleable__control sk-hidden--visually\" id=\"sk-estimator-id-5\" type=\"checkbox\" ><label for=\"sk-estimator-id-5\" class=\"sk-toggleable__label sk-toggleable__label-arrow\">estimator: DecisionTreeClassifier</label><div class=\"sk-toggleable__content\"><pre>DecisionTreeClassifier()</pre></div></div></div><div class=\"sk-serial\"><div class=\"sk-item\"><div class=\"sk-estimator sk-toggleable\"><input class=\"sk-toggleable__control sk-hidden--visually\" id=\"sk-estimator-id-6\" type=\"checkbox\" ><label for=\"sk-estimator-id-6\" class=\"sk-toggleable__label sk-toggleable__label-arrow\">DecisionTreeClassifier</label><div class=\"sk-toggleable__content\"><pre>DecisionTreeClassifier()</pre></div></div></div></div></div></div></div></div></div></div>"
            ]
          },
          "metadata": {},
          "execution_count": 36
        }
      ]
    },
    {
      "cell_type": "code",
      "source": [
        "print('Best hyperparameters: ', random_search_DTC.best_params_)\n",
        "print('Best accuracy score: ', random_search_DTC.best_score_)"
      ],
      "metadata": {
        "colab": {
          "base_uri": "https://localhost:8080/"
        },
        "id": "4c07pTvdNUSN",
        "outputId": "df4638b3-1f47-4058-c51b-5f1609052a6d"
      },
      "execution_count": null,
      "outputs": [
        {
          "output_type": "stream",
          "name": "stdout",
          "text": [
            "Best hyperparameters:  {'max_depth': 5, 'min_samples_leaf': 1}\n",
            "Best accuracy score:  0.840588305326143\n"
          ]
        }
      ]
    },
    {
      "cell_type": "code",
      "source": [
        "from sklearn.metrics import accuracy_score\n",
        " \n",
        "y_pred = random_search_DTC.predict(X_test)\n",
        " \n",
        "acc_secore = round(accuracy_score(y_pred, y_test), 3)\n",
        " \n",
        "print('Accuracy: ', acc_secore)"
      ],
      "metadata": {
        "colab": {
          "base_uri": "https://localhost:8080/"
        },
        "id": "tQDtG6mPQU7F",
        "outputId": "598553fd-0df6-40bf-cef2-a359caae0188"
      },
      "execution_count": null,
      "outputs": [
        {
          "output_type": "stream",
          "name": "stdout",
          "text": [
            "Accuracy:  0.913\n"
          ]
        }
      ]
    },
    {
      "cell_type": "code",
      "source": [
        "print('Training Accuracy :', random_search_DTC.score(X_train_resh, y_train_resh))\n",
        "print('Testing Accuracy :', random_search_DTC.score(X_test, y_test))"
      ],
      "metadata": {
        "colab": {
          "base_uri": "https://localhost:8080/"
        },
        "id": "9re7IM0oQ6zZ",
        "outputId": "46c3b77d-ace4-4249-8e3f-f252638405f8"
      },
      "execution_count": null,
      "outputs": [
        {
          "output_type": "stream",
          "name": "stdout",
          "text": [
            "Training Accuracy : 0.8558450462804251\n",
            "Testing Accuracy : 0.9129411764705883\n"
          ]
        }
      ]
    },
    {
      "cell_type": "code",
      "source": [
        "print('Mean f1 scores')\n",
        "print('tree model :',cross_val_score(random_search_DTC,X_train_resh,y_train_resh,cv=10,scoring='f1').mean())"
      ],
      "metadata": {
        "colab": {
          "base_uri": "https://localhost:8080/"
        },
        "id": "EJBWM8i4Qg0Y",
        "outputId": "d25db015-d100-476b-858b-7ad5c9993cfe"
      },
      "execution_count": null,
      "outputs": [
        {
          "output_type": "stream",
          "name": "stdout",
          "text": [
            "Mean f1 scores\n",
            "tree model : 0.8235535065193693\n"
          ]
        }
      ]
    },
    {
      "cell_type": "code",
      "source": [
        "cr = classification_report(y_test, y_pred)\n",
        "print(cr)"
      ],
      "metadata": {
        "colab": {
          "base_uri": "https://localhost:8080/"
        },
        "id": "btJPLkvDSpJK",
        "outputId": "a8dfe98e-4866-4540-b463-eea4b7461dc7"
      },
      "execution_count": null,
      "outputs": [
        {
          "output_type": "stream",
          "name": "stdout",
          "text": [
            "              precision    recall  f1-score   support\n",
            "\n",
            "           0       0.96      0.94      0.95       735\n",
            "           1       0.65      0.77      0.70       115\n",
            "\n",
            "    accuracy                           0.91       850\n",
            "   macro avg       0.81      0.85      0.83       850\n",
            "weighted avg       0.92      0.91      0.92       850\n",
            "\n"
          ]
        }
      ]
    },
    {
      "cell_type": "code",
      "source": [
        "cm = confusion_matrix(y_test, y_pred)\n",
        "print(cm)"
      ],
      "metadata": {
        "colab": {
          "base_uri": "https://localhost:8080/"
        },
        "id": "sNNuDCvKRJZO",
        "outputId": "068d0508-3f43-4b59-82e7-db0146bab838"
      },
      "execution_count": null,
      "outputs": [
        {
          "output_type": "stream",
          "name": "stdout",
          "text": [
            "[[688  47]\n",
            " [ 27  88]]\n"
          ]
        }
      ]
    },
    {
      "cell_type": "markdown",
      "source": [
        "# **MODEL SVM**"
      ],
      "metadata": {
        "id": "FJdwrn33WlTm"
      }
    },
    {
      "cell_type": "code",
      "source": [
        "from sklearn.svm import SVC\n",
        "svm_model = SVC()\n",
        "#svm_model = svm_model.fit(X_train_resh, y_train_resh)"
      ],
      "metadata": {
        "id": "IzmUq4wQWpbq"
      },
      "execution_count": null,
      "outputs": []
    },
    {
      "cell_type": "code",
      "source": [
        "param_grid2 = {'C': [0.1, 1, 10],\n",
        "              'gamma': [1, 0.1, 0.01],\n",
        "              'kernel': ['linear', 'rbf']}"
      ],
      "metadata": {
        "id": "XKrGbw2tPXZv"
      },
      "execution_count": null,
      "outputs": []
    },
    {
      "cell_type": "code",
      "source": [
        "random_search_SVM = GridSearchCV(svm_model, param_grid2, cv=5)"
      ],
      "metadata": {
        "id": "DAxXgEWpPf6g"
      },
      "execution_count": null,
      "outputs": []
    },
    {
      "cell_type": "code",
      "source": [
        "random_search_SVM.fit(X_train_resh, y_train_resh)"
      ],
      "metadata": {
        "colab": {
          "base_uri": "https://localhost:8080/",
          "height": 117
        },
        "id": "yz6MJRnqYTuj",
        "outputId": "5c9fbe5c-0668-4080-98b2-f09fb11381bb"
      },
      "execution_count": null,
      "outputs": [
        {
          "output_type": "execute_result",
          "data": {
            "text/plain": [
              "GridSearchCV(cv=5, estimator=SVC(),\n",
              "             param_grid={'C': [0.1, 1, 10], 'gamma': [1, 0.1, 0.01],\n",
              "                         'kernel': ['linear', 'rbf']})"
            ],
            "text/html": [
              "<style>#sk-container-id-1 {color: black;background-color: white;}#sk-container-id-1 pre{padding: 0;}#sk-container-id-1 div.sk-toggleable {background-color: white;}#sk-container-id-1 label.sk-toggleable__label {cursor: pointer;display: block;width: 100%;margin-bottom: 0;padding: 0.3em;box-sizing: border-box;text-align: center;}#sk-container-id-1 label.sk-toggleable__label-arrow:before {content: \"▸\";float: left;margin-right: 0.25em;color: #696969;}#sk-container-id-1 label.sk-toggleable__label-arrow:hover:before {color: black;}#sk-container-id-1 div.sk-estimator:hover label.sk-toggleable__label-arrow:before {color: black;}#sk-container-id-1 div.sk-toggleable__content {max-height: 0;max-width: 0;overflow: hidden;text-align: left;background-color: #f0f8ff;}#sk-container-id-1 div.sk-toggleable__content pre {margin: 0.2em;color: black;border-radius: 0.25em;background-color: #f0f8ff;}#sk-container-id-1 input.sk-toggleable__control:checked~div.sk-toggleable__content {max-height: 200px;max-width: 100%;overflow: auto;}#sk-container-id-1 input.sk-toggleable__control:checked~label.sk-toggleable__label-arrow:before {content: \"▾\";}#sk-container-id-1 div.sk-estimator input.sk-toggleable__control:checked~label.sk-toggleable__label {background-color: #d4ebff;}#sk-container-id-1 div.sk-label input.sk-toggleable__control:checked~label.sk-toggleable__label {background-color: #d4ebff;}#sk-container-id-1 input.sk-hidden--visually {border: 0;clip: rect(1px 1px 1px 1px);clip: rect(1px, 1px, 1px, 1px);height: 1px;margin: -1px;overflow: hidden;padding: 0;position: absolute;width: 1px;}#sk-container-id-1 div.sk-estimator {font-family: monospace;background-color: #f0f8ff;border: 1px dotted black;border-radius: 0.25em;box-sizing: border-box;margin-bottom: 0.5em;}#sk-container-id-1 div.sk-estimator:hover {background-color: #d4ebff;}#sk-container-id-1 div.sk-parallel-item::after {content: \"\";width: 100%;border-bottom: 1px solid gray;flex-grow: 1;}#sk-container-id-1 div.sk-label:hover label.sk-toggleable__label {background-color: #d4ebff;}#sk-container-id-1 div.sk-serial::before {content: \"\";position: absolute;border-left: 1px solid gray;box-sizing: border-box;top: 0;bottom: 0;left: 50%;z-index: 0;}#sk-container-id-1 div.sk-serial {display: flex;flex-direction: column;align-items: center;background-color: white;padding-right: 0.2em;padding-left: 0.2em;position: relative;}#sk-container-id-1 div.sk-item {position: relative;z-index: 1;}#sk-container-id-1 div.sk-parallel {display: flex;align-items: stretch;justify-content: center;background-color: white;position: relative;}#sk-container-id-1 div.sk-item::before, #sk-container-id-1 div.sk-parallel-item::before {content: \"\";position: absolute;border-left: 1px solid gray;box-sizing: border-box;top: 0;bottom: 0;left: 50%;z-index: -1;}#sk-container-id-1 div.sk-parallel-item {display: flex;flex-direction: column;z-index: 1;position: relative;background-color: white;}#sk-container-id-1 div.sk-parallel-item:first-child::after {align-self: flex-end;width: 50%;}#sk-container-id-1 div.sk-parallel-item:last-child::after {align-self: flex-start;width: 50%;}#sk-container-id-1 div.sk-parallel-item:only-child::after {width: 0;}#sk-container-id-1 div.sk-dashed-wrapped {border: 1px dashed gray;margin: 0 0.4em 0.5em 0.4em;box-sizing: border-box;padding-bottom: 0.4em;background-color: white;}#sk-container-id-1 div.sk-label label {font-family: monospace;font-weight: bold;display: inline-block;line-height: 1.2em;}#sk-container-id-1 div.sk-label-container {text-align: center;}#sk-container-id-1 div.sk-container {/* jupyter's `normalize.less` sets `[hidden] { display: none; }` but bootstrap.min.css set `[hidden] { display: none !important; }` so we also need the `!important` here to be able to override the default hidden behavior on the sphinx rendered scikit-learn.org. See: https://github.com/scikit-learn/scikit-learn/issues/21755 */display: inline-block !important;position: relative;}#sk-container-id-1 div.sk-text-repr-fallback {display: none;}</style><div id=\"sk-container-id-1\" class=\"sk-top-container\"><div class=\"sk-text-repr-fallback\"><pre>GridSearchCV(cv=5, estimator=SVC(),\n",
              "             param_grid={&#x27;C&#x27;: [0.1, 1, 10], &#x27;gamma&#x27;: [1, 0.1, 0.01],\n",
              "                         &#x27;kernel&#x27;: [&#x27;linear&#x27;, &#x27;rbf&#x27;]})</pre><b>In a Jupyter environment, please rerun this cell to show the HTML representation or trust the notebook. <br />On GitHub, the HTML representation is unable to render, please try loading this page with nbviewer.org.</b></div><div class=\"sk-container\" hidden><div class=\"sk-item sk-dashed-wrapped\"><div class=\"sk-label-container\"><div class=\"sk-label sk-toggleable\"><input class=\"sk-toggleable__control sk-hidden--visually\" id=\"sk-estimator-id-1\" type=\"checkbox\" ><label for=\"sk-estimator-id-1\" class=\"sk-toggleable__label sk-toggleable__label-arrow\">GridSearchCV</label><div class=\"sk-toggleable__content\"><pre>GridSearchCV(cv=5, estimator=SVC(),\n",
              "             param_grid={&#x27;C&#x27;: [0.1, 1, 10], &#x27;gamma&#x27;: [1, 0.1, 0.01],\n",
              "                         &#x27;kernel&#x27;: [&#x27;linear&#x27;, &#x27;rbf&#x27;]})</pre></div></div></div><div class=\"sk-parallel\"><div class=\"sk-parallel-item\"><div class=\"sk-item\"><div class=\"sk-label-container\"><div class=\"sk-label sk-toggleable\"><input class=\"sk-toggleable__control sk-hidden--visually\" id=\"sk-estimator-id-2\" type=\"checkbox\" ><label for=\"sk-estimator-id-2\" class=\"sk-toggleable__label sk-toggleable__label-arrow\">estimator: SVC</label><div class=\"sk-toggleable__content\"><pre>SVC()</pre></div></div></div><div class=\"sk-serial\"><div class=\"sk-item\"><div class=\"sk-estimator sk-toggleable\"><input class=\"sk-toggleable__control sk-hidden--visually\" id=\"sk-estimator-id-3\" type=\"checkbox\" ><label for=\"sk-estimator-id-3\" class=\"sk-toggleable__label sk-toggleable__label-arrow\">SVC</label><div class=\"sk-toggleable__content\"><pre>SVC()</pre></div></div></div></div></div></div></div></div></div></div>"
            ]
          },
          "metadata": {},
          "execution_count": 27
        }
      ]
    },
    {
      "cell_type": "code",
      "source": [
        "print('Best hyperparameters: ', random_search_SVM.best_params_)\n",
        "print('Best accuracy score: ', random_search_SVM.best_score_)"
      ],
      "metadata": {
        "colab": {
          "base_uri": "https://localhost:8080/"
        },
        "id": "gjHmJP4AP5b0",
        "outputId": "7e044a72-1a5f-4208-a3de-9d4fa436d12a"
      },
      "execution_count": null,
      "outputs": [
        {
          "output_type": "stream",
          "name": "stdout",
          "text": [
            "Best hyperparameters:  {'C': 10, 'gamma': 1, 'kernel': 'rbf'}\n",
            "Best accuracy score:  0.9139552384689893\n"
          ]
        }
      ]
    },
    {
      "cell_type": "code",
      "source": [
        "y_pred = random_search_SVM.predict(X_test)\n",
        " \n",
        "acc_secore = round(accuracy_score(y_pred, y_test), 3)\n",
        " \n",
        "print('Accuracy: ', acc_secore)"
      ],
      "metadata": {
        "colab": {
          "base_uri": "https://localhost:8080/"
        },
        "id": "ly7-lZf7XAJx",
        "outputId": "d8b88c79-8841-4498-a025-6e38634a4c6e"
      },
      "execution_count": null,
      "outputs": [
        {
          "output_type": "stream",
          "name": "stdout",
          "text": [
            "Accuracy:  0.813\n"
          ]
        }
      ]
    },
    {
      "cell_type": "code",
      "source": [
        "print('Training Accuracy :', random_search_SVM.score(X_train_resh, y_train_resh))\n",
        "print('Testing Accuracy :', random_search_SVM.score(X_test, y_test))"
      ],
      "metadata": {
        "colab": {
          "base_uri": "https://localhost:8080/"
        },
        "id": "Ls-XQ6OiXMN-",
        "outputId": "7b00a3a9-6e4c-462c-c59f-b97b07eb153b"
      },
      "execution_count": null,
      "outputs": [
        {
          "output_type": "stream",
          "name": "stdout",
          "text": [
            "Training Accuracy : 0.9928008227631128\n",
            "Testing Accuracy : 0.8129411764705883\n"
          ]
        }
      ]
    },
    {
      "cell_type": "code",
      "source": [
        "print('Mean f1 scores')\n",
        "print('tree model :',cross_val_score(random_search_SVM,X_train_resh,y_train_resh,cv=10,scoring='f1').mean())"
      ],
      "metadata": {
        "id": "wxFgVFIRXQhD"
      },
      "execution_count": null,
      "outputs": []
    },
    {
      "cell_type": "code",
      "source": [
        "cr = classification_report(y_test, y_pred)\n",
        "print(cr)"
      ],
      "metadata": {
        "colab": {
          "base_uri": "https://localhost:8080/"
        },
        "id": "lgXWnBI-XYIB",
        "outputId": "688f8058-b1a0-4a2c-80a7-10462cc088ba"
      },
      "execution_count": null,
      "outputs": [
        {
          "output_type": "stream",
          "name": "stdout",
          "text": [
            "              precision    recall  f1-score   support\n",
            "\n",
            "           0       0.90      0.89      0.89       735\n",
            "           1       0.32      0.34      0.33       115\n",
            "\n",
            "    accuracy                           0.81       850\n",
            "   macro avg       0.61      0.61      0.61       850\n",
            "weighted avg       0.82      0.81      0.82       850\n",
            "\n"
          ]
        }
      ]
    },
    {
      "cell_type": "code",
      "source": [
        "cm = confusion_matrix(y_test, y_pred)\n",
        "print(cm)"
      ],
      "metadata": {
        "colab": {
          "base_uri": "https://localhost:8080/"
        },
        "id": "IyzZntNDXlXl",
        "outputId": "a5074181-9fb8-466a-e4f6-8459c2b997b0"
      },
      "execution_count": null,
      "outputs": [
        {
          "output_type": "stream",
          "name": "stdout",
          "text": [
            "[[652  83]\n",
            " [ 76  39]]\n"
          ]
        }
      ]
    },
    {
      "cell_type": "markdown",
      "source": [
        "# **MODEL Random Forest**"
      ],
      "metadata": {
        "id": "VsX9Y3A0ZNaQ"
      }
    },
    {
      "cell_type": "code",
      "source": [
        "rf_model = RandomForestClassifier()\n",
        "#rf_history = rf_model.fit(X_train_resh, y_train_resh)"
      ],
      "metadata": {
        "id": "BxDBaft1ZR2_"
      },
      "execution_count": null,
      "outputs": []
    },
    {
      "cell_type": "code",
      "source": [
        "param_grid3 = {'n_estimators': [100, 500, 1000],\n",
        "              'max_depth': [3, 5, 7],\n",
        "              'min_samples_split': [2, 5, 10],\n",
        "              'min_samples_leaf': [1, 2, 4]}"
      ],
      "metadata": {
        "id": "XhkXgU6vZoiT"
      },
      "execution_count": null,
      "outputs": []
    },
    {
      "cell_type": "code",
      "source": [
        "grid_search_RF = GridSearchCV(estimator = rf_model, param_grid = param_grid3, cv = 3, n_jobs = -1)"
      ],
      "metadata": {
        "id": "Vz73hnUjZxaZ"
      },
      "execution_count": null,
      "outputs": []
    },
    {
      "cell_type": "code",
      "source": [
        "rf_history = grid_search_RF.fit(X_train, y_train)"
      ],
      "metadata": {
        "id": "7rIX2EqsZ3sP"
      },
      "execution_count": null,
      "outputs": []
    },
    {
      "cell_type": "code",
      "source": [
        "from sklearn.metrics import accuracy_score\n",
        " \n",
        "y_pred = rf_history.predict(X_test)\n",
        " \n",
        "acc_secore = round(accuracy_score(y_pred, y_test), 3)\n",
        " \n",
        "print('Accuracy: ', acc_secore)"
      ],
      "metadata": {
        "colab": {
          "base_uri": "https://localhost:8080/"
        },
        "id": "9cKo-MVkZdf_",
        "outputId": "13d42a1d-7708-434c-8f68-4627a2a02e69"
      },
      "execution_count": null,
      "outputs": [
        {
          "output_type": "stream",
          "name": "stdout",
          "text": [
            "Accuracy:  0.941\n"
          ]
        }
      ]
    },
    {
      "cell_type": "code",
      "source": [
        "cr = classification_report(y_test, y_pred)\n",
        "print(cr)"
      ],
      "metadata": {
        "colab": {
          "base_uri": "https://localhost:8080/"
        },
        "id": "3eWdjBeqZkmy",
        "outputId": "f3622a75-7889-4901-a2e1-338b6e45c5f9"
      },
      "execution_count": null,
      "outputs": [
        {
          "output_type": "stream",
          "name": "stdout",
          "text": [
            "              precision    recall  f1-score   support\n",
            "\n",
            "           0       0.94      1.00      0.97       735\n",
            "           1       0.97      0.58      0.73       115\n",
            "\n",
            "    accuracy                           0.94       850\n",
            "   macro avg       0.95      0.79      0.85       850\n",
            "weighted avg       0.94      0.94      0.93       850\n",
            "\n"
          ]
        }
      ]
    },
    {
      "cell_type": "code",
      "source": [
        "cm = confusion_matrix(y_test, y_pred)\n",
        "print(cm)"
      ],
      "metadata": {
        "colab": {
          "base_uri": "https://localhost:8080/"
        },
        "id": "FqYhmnyTZnTs",
        "outputId": "4b849914-8235-42d2-d88f-32398a5ed126"
      },
      "execution_count": null,
      "outputs": [
        {
          "output_type": "stream",
          "name": "stdout",
          "text": [
            "[[733   2]\n",
            " [ 48  67]]\n"
          ]
        }
      ]
    },
    {
      "cell_type": "markdown",
      "source": [
        "# **XGBOOST KLASIFIKASI**"
      ],
      "metadata": {
        "id": "Xk3ck0H6C-nw"
      }
    },
    {
      "cell_type": "code",
      "source": [
        "from sklearn.metrics import accuracy_score, classification_report, confusion_matrix\n",
        "from sklearn.model_selection import RandomizedSearchCV\n",
        "import xgboost as xgb"
      ],
      "metadata": {
        "id": "namTqsXnDD6Q"
      },
      "execution_count": null,
      "outputs": []
    },
    {
      "cell_type": "code",
      "source": [
        "param_grid = {\n",
        "    'max_depth': [3, 4, 5],\n",
        "    'learning_rate': [0.1, 0.01, 0.001],\n",
        "    'n_estimators': [100, 500, 1000],\n",
        "    'subsample': [0.8, 0.9, 1.0],\n",
        "    'colsample_bytree': [0.8, 0.9, 1.0]\n",
        "}"
      ],
      "metadata": {
        "id": "orzLH2f3DpWA"
      },
      "execution_count": null,
      "outputs": []
    },
    {
      "cell_type": "code",
      "source": [
        "xgb_clf = xgb.XGBClassifier()"
      ],
      "metadata": {
        "id": "bF19aSe-EZlC"
      },
      "execution_count": null,
      "outputs": []
    },
    {
      "cell_type": "code",
      "source": [
        "random_search = RandomizedSearchCV(xgb_clf, param_distributions=param_grid, n_iter=10, cv=5, verbose=3, n_jobs=-1)"
      ],
      "metadata": {
        "id": "Ufo22DoOEdiC"
      },
      "execution_count": null,
      "outputs": []
    },
    {
      "cell_type": "code",
      "source": [
        "random_search.fit(X_train_resh, y_train_resh)"
      ],
      "metadata": {
        "colab": {
          "base_uri": "https://localhost:8080/",
          "height": 134
        },
        "id": "_vQ3znirElYD",
        "outputId": "406aadbc-286c-4092-9f58-6c09edfcd825"
      },
      "execution_count": null,
      "outputs": [
        {
          "output_type": "stream",
          "name": "stdout",
          "text": [
            "Fitting 5 folds for each of 10 candidates, totalling 50 fits\n"
          ]
        },
        {
          "output_type": "execute_result",
          "data": {
            "text/plain": [
              "RandomizedSearchCV(cv=5,\n",
              "                   estimator=XGBClassifier(base_score=None, booster=None,\n",
              "                                           callbacks=None,\n",
              "                                           colsample_bylevel=None,\n",
              "                                           colsample_bynode=None,\n",
              "                                           colsample_bytree=None,\n",
              "                                           early_stopping_rounds=None,\n",
              "                                           enable_categorical=False,\n",
              "                                           eval_metric=None, feature_types=None,\n",
              "                                           gamma=None, gpu_id=None,\n",
              "                                           grow_policy=None,\n",
              "                                           importance_type=None,\n",
              "                                           interaction_constraints=None,\n",
              "                                           learning_rate...\n",
              "                                           max_leaves=None,\n",
              "                                           min_child_weight=None, missing=nan,\n",
              "                                           monotone_constraints=None,\n",
              "                                           n_estimators=100, n_jobs=None,\n",
              "                                           num_parallel_tree=None,\n",
              "                                           predictor=None, random_state=None, ...),\n",
              "                   n_jobs=-1,\n",
              "                   param_distributions={'colsample_bytree': [0.8, 0.9, 1.0],\n",
              "                                        'learning_rate': [0.1, 0.01, 0.001],\n",
              "                                        'max_depth': [3, 4, 5],\n",
              "                                        'n_estimators': [100, 500, 1000],\n",
              "                                        'subsample': [0.8, 0.9, 1.0]},\n",
              "                   verbose=3)"
            ],
            "text/html": [
              "<style>#sk-container-id-2 {color: black;background-color: white;}#sk-container-id-2 pre{padding: 0;}#sk-container-id-2 div.sk-toggleable {background-color: white;}#sk-container-id-2 label.sk-toggleable__label {cursor: pointer;display: block;width: 100%;margin-bottom: 0;padding: 0.3em;box-sizing: border-box;text-align: center;}#sk-container-id-2 label.sk-toggleable__label-arrow:before {content: \"▸\";float: left;margin-right: 0.25em;color: #696969;}#sk-container-id-2 label.sk-toggleable__label-arrow:hover:before {color: black;}#sk-container-id-2 div.sk-estimator:hover label.sk-toggleable__label-arrow:before {color: black;}#sk-container-id-2 div.sk-toggleable__content {max-height: 0;max-width: 0;overflow: hidden;text-align: left;background-color: #f0f8ff;}#sk-container-id-2 div.sk-toggleable__content pre {margin: 0.2em;color: black;border-radius: 0.25em;background-color: #f0f8ff;}#sk-container-id-2 input.sk-toggleable__control:checked~div.sk-toggleable__content {max-height: 200px;max-width: 100%;overflow: auto;}#sk-container-id-2 input.sk-toggleable__control:checked~label.sk-toggleable__label-arrow:before {content: \"▾\";}#sk-container-id-2 div.sk-estimator input.sk-toggleable__control:checked~label.sk-toggleable__label {background-color: #d4ebff;}#sk-container-id-2 div.sk-label input.sk-toggleable__control:checked~label.sk-toggleable__label {background-color: #d4ebff;}#sk-container-id-2 input.sk-hidden--visually {border: 0;clip: rect(1px 1px 1px 1px);clip: rect(1px, 1px, 1px, 1px);height: 1px;margin: -1px;overflow: hidden;padding: 0;position: absolute;width: 1px;}#sk-container-id-2 div.sk-estimator {font-family: monospace;background-color: #f0f8ff;border: 1px dotted black;border-radius: 0.25em;box-sizing: border-box;margin-bottom: 0.5em;}#sk-container-id-2 div.sk-estimator:hover {background-color: #d4ebff;}#sk-container-id-2 div.sk-parallel-item::after {content: \"\";width: 100%;border-bottom: 1px solid gray;flex-grow: 1;}#sk-container-id-2 div.sk-label:hover label.sk-toggleable__label {background-color: #d4ebff;}#sk-container-id-2 div.sk-serial::before {content: \"\";position: absolute;border-left: 1px solid gray;box-sizing: border-box;top: 0;bottom: 0;left: 50%;z-index: 0;}#sk-container-id-2 div.sk-serial {display: flex;flex-direction: column;align-items: center;background-color: white;padding-right: 0.2em;padding-left: 0.2em;position: relative;}#sk-container-id-2 div.sk-item {position: relative;z-index: 1;}#sk-container-id-2 div.sk-parallel {display: flex;align-items: stretch;justify-content: center;background-color: white;position: relative;}#sk-container-id-2 div.sk-item::before, #sk-container-id-2 div.sk-parallel-item::before {content: \"\";position: absolute;border-left: 1px solid gray;box-sizing: border-box;top: 0;bottom: 0;left: 50%;z-index: -1;}#sk-container-id-2 div.sk-parallel-item {display: flex;flex-direction: column;z-index: 1;position: relative;background-color: white;}#sk-container-id-2 div.sk-parallel-item:first-child::after {align-self: flex-end;width: 50%;}#sk-container-id-2 div.sk-parallel-item:last-child::after {align-self: flex-start;width: 50%;}#sk-container-id-2 div.sk-parallel-item:only-child::after {width: 0;}#sk-container-id-2 div.sk-dashed-wrapped {border: 1px dashed gray;margin: 0 0.4em 0.5em 0.4em;box-sizing: border-box;padding-bottom: 0.4em;background-color: white;}#sk-container-id-2 div.sk-label label {font-family: monospace;font-weight: bold;display: inline-block;line-height: 1.2em;}#sk-container-id-2 div.sk-label-container {text-align: center;}#sk-container-id-2 div.sk-container {/* jupyter's `normalize.less` sets `[hidden] { display: none; }` but bootstrap.min.css set `[hidden] { display: none !important; }` so we also need the `!important` here to be able to override the default hidden behavior on the sphinx rendered scikit-learn.org. See: https://github.com/scikit-learn/scikit-learn/issues/21755 */display: inline-block !important;position: relative;}#sk-container-id-2 div.sk-text-repr-fallback {display: none;}</style><div id=\"sk-container-id-2\" class=\"sk-top-container\"><div class=\"sk-text-repr-fallback\"><pre>RandomizedSearchCV(cv=5,\n",
              "                   estimator=XGBClassifier(base_score=None, booster=None,\n",
              "                                           callbacks=None,\n",
              "                                           colsample_bylevel=None,\n",
              "                                           colsample_bynode=None,\n",
              "                                           colsample_bytree=None,\n",
              "                                           early_stopping_rounds=None,\n",
              "                                           enable_categorical=False,\n",
              "                                           eval_metric=None, feature_types=None,\n",
              "                                           gamma=None, gpu_id=None,\n",
              "                                           grow_policy=None,\n",
              "                                           importance_type=None,\n",
              "                                           interaction_constraints=None,\n",
              "                                           learning_rate...\n",
              "                                           max_leaves=None,\n",
              "                                           min_child_weight=None, missing=nan,\n",
              "                                           monotone_constraints=None,\n",
              "                                           n_estimators=100, n_jobs=None,\n",
              "                                           num_parallel_tree=None,\n",
              "                                           predictor=None, random_state=None, ...),\n",
              "                   n_jobs=-1,\n",
              "                   param_distributions={&#x27;colsample_bytree&#x27;: [0.8, 0.9, 1.0],\n",
              "                                        &#x27;learning_rate&#x27;: [0.1, 0.01, 0.001],\n",
              "                                        &#x27;max_depth&#x27;: [3, 4, 5],\n",
              "                                        &#x27;n_estimators&#x27;: [100, 500, 1000],\n",
              "                                        &#x27;subsample&#x27;: [0.8, 0.9, 1.0]},\n",
              "                   verbose=3)</pre><b>In a Jupyter environment, please rerun this cell to show the HTML representation or trust the notebook. <br />On GitHub, the HTML representation is unable to render, please try loading this page with nbviewer.org.</b></div><div class=\"sk-container\" hidden><div class=\"sk-item sk-dashed-wrapped\"><div class=\"sk-label-container\"><div class=\"sk-label sk-toggleable\"><input class=\"sk-toggleable__control sk-hidden--visually\" id=\"sk-estimator-id-2\" type=\"checkbox\" ><label for=\"sk-estimator-id-2\" class=\"sk-toggleable__label sk-toggleable__label-arrow\">RandomizedSearchCV</label><div class=\"sk-toggleable__content\"><pre>RandomizedSearchCV(cv=5,\n",
              "                   estimator=XGBClassifier(base_score=None, booster=None,\n",
              "                                           callbacks=None,\n",
              "                                           colsample_bylevel=None,\n",
              "                                           colsample_bynode=None,\n",
              "                                           colsample_bytree=None,\n",
              "                                           early_stopping_rounds=None,\n",
              "                                           enable_categorical=False,\n",
              "                                           eval_metric=None, feature_types=None,\n",
              "                                           gamma=None, gpu_id=None,\n",
              "                                           grow_policy=None,\n",
              "                                           importance_type=None,\n",
              "                                           interaction_constraints=None,\n",
              "                                           learning_rate...\n",
              "                                           max_leaves=None,\n",
              "                                           min_child_weight=None, missing=nan,\n",
              "                                           monotone_constraints=None,\n",
              "                                           n_estimators=100, n_jobs=None,\n",
              "                                           num_parallel_tree=None,\n",
              "                                           predictor=None, random_state=None, ...),\n",
              "                   n_jobs=-1,\n",
              "                   param_distributions={&#x27;colsample_bytree&#x27;: [0.8, 0.9, 1.0],\n",
              "                                        &#x27;learning_rate&#x27;: [0.1, 0.01, 0.001],\n",
              "                                        &#x27;max_depth&#x27;: [3, 4, 5],\n",
              "                                        &#x27;n_estimators&#x27;: [100, 500, 1000],\n",
              "                                        &#x27;subsample&#x27;: [0.8, 0.9, 1.0]},\n",
              "                   verbose=3)</pre></div></div></div><div class=\"sk-parallel\"><div class=\"sk-parallel-item\"><div class=\"sk-item\"><div class=\"sk-label-container\"><div class=\"sk-label sk-toggleable\"><input class=\"sk-toggleable__control sk-hidden--visually\" id=\"sk-estimator-id-3\" type=\"checkbox\" ><label for=\"sk-estimator-id-3\" class=\"sk-toggleable__label sk-toggleable__label-arrow\">estimator: XGBClassifier</label><div class=\"sk-toggleable__content\"><pre>XGBClassifier(base_score=None, booster=None, callbacks=None,\n",
              "              colsample_bylevel=None, colsample_bynode=None,\n",
              "              colsample_bytree=None, early_stopping_rounds=None,\n",
              "              enable_categorical=False, eval_metric=None, feature_types=None,\n",
              "              gamma=None, gpu_id=None, grow_policy=None, importance_type=None,\n",
              "              interaction_constraints=None, learning_rate=None, max_bin=None,\n",
              "              max_cat_threshold=None, max_cat_to_onehot=None,\n",
              "              max_delta_step=None, max_depth=None, max_leaves=None,\n",
              "              min_child_weight=None, missing=nan, monotone_constraints=None,\n",
              "              n_estimators=100, n_jobs=None, num_parallel_tree=None,\n",
              "              predictor=None, random_state=None, ...)</pre></div></div></div><div class=\"sk-serial\"><div class=\"sk-item\"><div class=\"sk-estimator sk-toggleable\"><input class=\"sk-toggleable__control sk-hidden--visually\" id=\"sk-estimator-id-4\" type=\"checkbox\" ><label for=\"sk-estimator-id-4\" class=\"sk-toggleable__label sk-toggleable__label-arrow\">XGBClassifier</label><div class=\"sk-toggleable__content\"><pre>XGBClassifier(base_score=None, booster=None, callbacks=None,\n",
              "              colsample_bylevel=None, colsample_bynode=None,\n",
              "              colsample_bytree=None, early_stopping_rounds=None,\n",
              "              enable_categorical=False, eval_metric=None, feature_types=None,\n",
              "              gamma=None, gpu_id=None, grow_policy=None, importance_type=None,\n",
              "              interaction_constraints=None, learning_rate=None, max_bin=None,\n",
              "              max_cat_threshold=None, max_cat_to_onehot=None,\n",
              "              max_delta_step=None, max_depth=None, max_leaves=None,\n",
              "              min_child_weight=None, missing=nan, monotone_constraints=None,\n",
              "              n_estimators=100, n_jobs=None, num_parallel_tree=None,\n",
              "              predictor=None, random_state=None, ...)</pre></div></div></div></div></div></div></div></div></div></div>"
            ]
          },
          "metadata": {},
          "execution_count": 46
        }
      ]
    },
    {
      "cell_type": "code",
      "source": [
        "print(random_search.best_params_)"
      ],
      "metadata": {
        "colab": {
          "base_uri": "https://localhost:8080/"
        },
        "id": "jcYCK_fbE0dQ",
        "outputId": "bbbf1b84-4604-4081-f27c-0939da552a4b"
      },
      "execution_count": null,
      "outputs": [
        {
          "output_type": "stream",
          "name": "stdout",
          "text": [
            "{'subsample': 0.9, 'n_estimators': 1000, 'max_depth': 5, 'learning_rate': 0.1, 'colsample_bytree': 0.8}\n"
          ]
        }
      ]
    },
    {
      "cell_type": "code",
      "source": [
        "xgb_clf_best = xgb.XGBClassifier(colsample_bytree=0.8, learning_rate=0.1, max_depth=5, n_estimators=500, subsample=0.8)"
      ],
      "metadata": {
        "id": "Hn6yHW1fFZuL"
      },
      "execution_count": null,
      "outputs": []
    },
    {
      "cell_type": "code",
      "source": [
        "xgb_clf_best.fit(X_train_resh, y_train_resh)"
      ],
      "metadata": {
        "colab": {
          "base_uri": "https://localhost:8080/",
          "height": 248
        },
        "id": "4XqGorB-Fi_r",
        "outputId": "8ee6468c-ef07-480c-d904-41e73148388e"
      },
      "execution_count": null,
      "outputs": [
        {
          "output_type": "execute_result",
          "data": {
            "text/plain": [
              "XGBClassifier(base_score=None, booster=None, callbacks=None,\n",
              "              colsample_bylevel=None, colsample_bynode=None,\n",
              "              colsample_bytree=0.8, early_stopping_rounds=None,\n",
              "              enable_categorical=False, eval_metric=None, feature_types=None,\n",
              "              gamma=None, gpu_id=None, grow_policy=None, importance_type=None,\n",
              "              interaction_constraints=None, learning_rate=0.1, max_bin=None,\n",
              "              max_cat_threshold=None, max_cat_to_onehot=None,\n",
              "              max_delta_step=None, max_depth=5, max_leaves=None,\n",
              "              min_child_weight=None, missing=nan, monotone_constraints=None,\n",
              "              n_estimators=500, n_jobs=None, num_parallel_tree=None,\n",
              "              predictor=None, random_state=None, ...)"
            ],
            "text/html": [
              "<style>#sk-container-id-3 {color: black;background-color: white;}#sk-container-id-3 pre{padding: 0;}#sk-container-id-3 div.sk-toggleable {background-color: white;}#sk-container-id-3 label.sk-toggleable__label {cursor: pointer;display: block;width: 100%;margin-bottom: 0;padding: 0.3em;box-sizing: border-box;text-align: center;}#sk-container-id-3 label.sk-toggleable__label-arrow:before {content: \"▸\";float: left;margin-right: 0.25em;color: #696969;}#sk-container-id-3 label.sk-toggleable__label-arrow:hover:before {color: black;}#sk-container-id-3 div.sk-estimator:hover label.sk-toggleable__label-arrow:before {color: black;}#sk-container-id-3 div.sk-toggleable__content {max-height: 0;max-width: 0;overflow: hidden;text-align: left;background-color: #f0f8ff;}#sk-container-id-3 div.sk-toggleable__content pre {margin: 0.2em;color: black;border-radius: 0.25em;background-color: #f0f8ff;}#sk-container-id-3 input.sk-toggleable__control:checked~div.sk-toggleable__content {max-height: 200px;max-width: 100%;overflow: auto;}#sk-container-id-3 input.sk-toggleable__control:checked~label.sk-toggleable__label-arrow:before {content: \"▾\";}#sk-container-id-3 div.sk-estimator input.sk-toggleable__control:checked~label.sk-toggleable__label {background-color: #d4ebff;}#sk-container-id-3 div.sk-label input.sk-toggleable__control:checked~label.sk-toggleable__label {background-color: #d4ebff;}#sk-container-id-3 input.sk-hidden--visually {border: 0;clip: rect(1px 1px 1px 1px);clip: rect(1px, 1px, 1px, 1px);height: 1px;margin: -1px;overflow: hidden;padding: 0;position: absolute;width: 1px;}#sk-container-id-3 div.sk-estimator {font-family: monospace;background-color: #f0f8ff;border: 1px dotted black;border-radius: 0.25em;box-sizing: border-box;margin-bottom: 0.5em;}#sk-container-id-3 div.sk-estimator:hover {background-color: #d4ebff;}#sk-container-id-3 div.sk-parallel-item::after {content: \"\";width: 100%;border-bottom: 1px solid gray;flex-grow: 1;}#sk-container-id-3 div.sk-label:hover label.sk-toggleable__label {background-color: #d4ebff;}#sk-container-id-3 div.sk-serial::before {content: \"\";position: absolute;border-left: 1px solid gray;box-sizing: border-box;top: 0;bottom: 0;left: 50%;z-index: 0;}#sk-container-id-3 div.sk-serial {display: flex;flex-direction: column;align-items: center;background-color: white;padding-right: 0.2em;padding-left: 0.2em;position: relative;}#sk-container-id-3 div.sk-item {position: relative;z-index: 1;}#sk-container-id-3 div.sk-parallel {display: flex;align-items: stretch;justify-content: center;background-color: white;position: relative;}#sk-container-id-3 div.sk-item::before, #sk-container-id-3 div.sk-parallel-item::before {content: \"\";position: absolute;border-left: 1px solid gray;box-sizing: border-box;top: 0;bottom: 0;left: 50%;z-index: -1;}#sk-container-id-3 div.sk-parallel-item {display: flex;flex-direction: column;z-index: 1;position: relative;background-color: white;}#sk-container-id-3 div.sk-parallel-item:first-child::after {align-self: flex-end;width: 50%;}#sk-container-id-3 div.sk-parallel-item:last-child::after {align-self: flex-start;width: 50%;}#sk-container-id-3 div.sk-parallel-item:only-child::after {width: 0;}#sk-container-id-3 div.sk-dashed-wrapped {border: 1px dashed gray;margin: 0 0.4em 0.5em 0.4em;box-sizing: border-box;padding-bottom: 0.4em;background-color: white;}#sk-container-id-3 div.sk-label label {font-family: monospace;font-weight: bold;display: inline-block;line-height: 1.2em;}#sk-container-id-3 div.sk-label-container {text-align: center;}#sk-container-id-3 div.sk-container {/* jupyter's `normalize.less` sets `[hidden] { display: none; }` but bootstrap.min.css set `[hidden] { display: none !important; }` so we also need the `!important` here to be able to override the default hidden behavior on the sphinx rendered scikit-learn.org. See: https://github.com/scikit-learn/scikit-learn/issues/21755 */display: inline-block !important;position: relative;}#sk-container-id-3 div.sk-text-repr-fallback {display: none;}</style><div id=\"sk-container-id-3\" class=\"sk-top-container\"><div class=\"sk-text-repr-fallback\"><pre>XGBClassifier(base_score=None, booster=None, callbacks=None,\n",
              "              colsample_bylevel=None, colsample_bynode=None,\n",
              "              colsample_bytree=0.8, early_stopping_rounds=None,\n",
              "              enable_categorical=False, eval_metric=None, feature_types=None,\n",
              "              gamma=None, gpu_id=None, grow_policy=None, importance_type=None,\n",
              "              interaction_constraints=None, learning_rate=0.1, max_bin=None,\n",
              "              max_cat_threshold=None, max_cat_to_onehot=None,\n",
              "              max_delta_step=None, max_depth=5, max_leaves=None,\n",
              "              min_child_weight=None, missing=nan, monotone_constraints=None,\n",
              "              n_estimators=500, n_jobs=None, num_parallel_tree=None,\n",
              "              predictor=None, random_state=None, ...)</pre><b>In a Jupyter environment, please rerun this cell to show the HTML representation or trust the notebook. <br />On GitHub, the HTML representation is unable to render, please try loading this page with nbviewer.org.</b></div><div class=\"sk-container\" hidden><div class=\"sk-item\"><div class=\"sk-estimator sk-toggleable\"><input class=\"sk-toggleable__control sk-hidden--visually\" id=\"sk-estimator-id-5\" type=\"checkbox\" checked><label for=\"sk-estimator-id-5\" class=\"sk-toggleable__label sk-toggleable__label-arrow\">XGBClassifier</label><div class=\"sk-toggleable__content\"><pre>XGBClassifier(base_score=None, booster=None, callbacks=None,\n",
              "              colsample_bylevel=None, colsample_bynode=None,\n",
              "              colsample_bytree=0.8, early_stopping_rounds=None,\n",
              "              enable_categorical=False, eval_metric=None, feature_types=None,\n",
              "              gamma=None, gpu_id=None, grow_policy=None, importance_type=None,\n",
              "              interaction_constraints=None, learning_rate=0.1, max_bin=None,\n",
              "              max_cat_threshold=None, max_cat_to_onehot=None,\n",
              "              max_delta_step=None, max_depth=5, max_leaves=None,\n",
              "              min_child_weight=None, missing=nan, monotone_constraints=None,\n",
              "              n_estimators=500, n_jobs=None, num_parallel_tree=None,\n",
              "              predictor=None, random_state=None, ...)</pre></div></div></div></div></div>"
            ]
          },
          "metadata": {},
          "execution_count": 49
        }
      ]
    },
    {
      "cell_type": "code",
      "source": [
        "y_pred = xgb_clf_best.predict(X_test)\n",
        "accuracy = accuracy_score(y_test, y_pred)\n",
        "print(\"Accuracy:\", accuracy)"
      ],
      "metadata": {
        "colab": {
          "base_uri": "https://localhost:8080/"
        },
        "id": "bluCb_k7FqLL",
        "outputId": "c68f9c0e-7be7-4c88-9fee-63b6f8b3f3d6"
      },
      "execution_count": null,
      "outputs": [
        {
          "output_type": "stream",
          "name": "stdout",
          "text": [
            "Accuracy: 0.9623529411764706\n"
          ]
        }
      ]
    },
    {
      "cell_type": "code",
      "source": [
        "print('Training Accuracy :', xgb_clf_best.score(X_train_resh, y_train_resh))\n",
        "print('Testing Accuracy :', xgb_clf_best.score(X_test, y_test))"
      ],
      "metadata": {
        "colab": {
          "base_uri": "https://localhost:8080/"
        },
        "id": "bIsqP4O3F1QP",
        "outputId": "8127ef13-668e-41a7-e45f-95a5feae6dac"
      },
      "execution_count": null,
      "outputs": [
        {
          "output_type": "stream",
          "name": "stdout",
          "text": [
            "Training Accuracy : 1.0\n",
            "Testing Accuracy : 0.9623529411764706\n"
          ]
        }
      ]
    },
    {
      "cell_type": "code",
      "source": [
        "print('Mean f1 scores')\n",
        "print('XGBoost Model :',cross_val_score(xgb_clf_best,X_train_resh,y_train_resh,cv=10,scoring='f1').mean())"
      ],
      "metadata": {
        "colab": {
          "base_uri": "https://localhost:8080/"
        },
        "id": "vJjR4OtzF8LJ",
        "outputId": "24879e78-d3ec-455f-d796-174dd372b42b"
      },
      "execution_count": null,
      "outputs": [
        {
          "output_type": "stream",
          "name": "stdout",
          "text": [
            "Mean f1 scores\n",
            "XGBoost Model : 0.9670129455454524\n"
          ]
        }
      ]
    },
    {
      "cell_type": "code",
      "source": [
        "cr = classification_report(y_test, y_pred)\n",
        "print(cr)"
      ],
      "metadata": {
        "colab": {
          "base_uri": "https://localhost:8080/"
        },
        "id": "QzJnK7bxGHZF",
        "outputId": "2f74f9ad-3271-49d5-88e0-47e2b3d83c75"
      },
      "execution_count": null,
      "outputs": [
        {
          "output_type": "stream",
          "name": "stdout",
          "text": [
            "              precision    recall  f1-score   support\n",
            "\n",
            "           0       0.97      0.99      0.98       735\n",
            "           1       0.93      0.78      0.85       115\n",
            "\n",
            "    accuracy                           0.96       850\n",
            "   macro avg       0.95      0.89      0.91       850\n",
            "weighted avg       0.96      0.96      0.96       850\n",
            "\n"
          ]
        }
      ]
    },
    {
      "cell_type": "code",
      "source": [
        "cm = confusion_matrix(y_test, y_pred)\n",
        "print(cm)"
      ],
      "metadata": {
        "colab": {
          "base_uri": "https://localhost:8080/"
        },
        "id": "S0Lpd9NmGvW3",
        "outputId": "962f37b9-daac-4e74-dd0f-4457d186c167"
      },
      "execution_count": null,
      "outputs": [
        {
          "output_type": "stream",
          "name": "stdout",
          "text": [
            "[[728   7]\n",
            " [ 25  90]]\n"
          ]
        }
      ]
    },
    {
      "cell_type": "code",
      "source": [
        "import seaborn as sns\n",
        "import matplotlib.pyplot as plt\n",
        "cm = confusion_matrix(y_test, y_pred)\n",
        "# set label untuk sumbu x dan y\n",
        "labels = ['True Negatif','False Positif','False Negatif','True Positif']\n",
        "\n",
        "# reshape confusion matrix menjadi 1 dimensi\n",
        "cm_1d = cm.ravel()\n",
        "\n",
        "# hitung persentase setiap label\n",
        "percentages = ['{:.2f}%'.format(value) for value in cm_1d/np.sum(cm_1d)*100]\n",
        "\n",
        "# gabungkan label dengan persentase\n",
        "labels = [f'{v1}\\n{v2}' for v1, v2 in zip(labels, percentages)]\n",
        "labels = np.asarray(labels).reshape(2,2)\n",
        "\n",
        "# plot confusion matrix\n",
        "sns.heatmap(cm, annot=labels, fmt='', cmap='Blues')\n",
        "plt.xlabel('Predicted Label')\n",
        "plt.ylabel('True Label')\n",
        "plt.show()\n"
      ],
      "metadata": {
        "colab": {
          "base_uri": "https://localhost:8080/",
          "height": 458
        },
        "id": "NHIHiGT52Kq-",
        "outputId": "69e48f8d-107a-44cb-8740-05a812ce2ab2"
      },
      "execution_count": null,
      "outputs": [
        {
          "output_type": "display_data",
          "data": {
            "text/plain": [
              "<Figure size 640x480 with 2 Axes>"
            ],
            "image/png": "[encoded data removed]"
          },
          "metadata": {}
        }
      ]
    },
    {
      "cell_type": "markdown",
      "source": [
        "# **perbandingan hasil model akurasi**"
      ],
      "metadata": {
        "id": "Tv9LOjjJIJu5"
      }
    },
    {
      "cell_type": "code",
      "source": [
        "import seaborn as sns\n",
        "import matplotlib.pyplot as plt\n",
        "\n",
        "# Contoh data hasil akurasi model\n",
        "model_names = ['Tree', 'SVM', 'Random F', 'XG']\n",
        "accuracies = [0.913, 0.813, 0.941, 0.958]\n",
        "\n",
        "# Membuat dataframe dari data hasil akurasi model\n",
        "df = pd.DataFrame({'Model': model_names, 'Accuracy': accuracies})\n",
        "\n",
        "# Membuat bar plot menggunakan seaborn\n",
        "sns.set_style(\"whitegrid\")\n",
        "sns.barplot(x=\"Model\", y=\"Accuracy\", data=df, palette=\"Blues_d\")\n",
        "\n",
        "# Menambahkan label dan judul plot\n",
        "plt.xlabel(\"Model\")\n",
        "plt.ylabel(\"Accuracy\")\n",
        "plt.title(\"Model Accuracies\")\n",
        "\n",
        "# Menampilkan plot\n",
        "plt.show()"
      ],
      "metadata": {
        "colab": {
          "base_uri": "https://localhost:8080/",
          "height": 480
        },
        "id": "ELJ2hjcrJ1vx",
        "outputId": "d86cc553-610b-4602-d78b-420448b5f346"
      },
      "execution_count": null,
      "outputs": [
        {
          "output_type": "display_data",
          "data": {
            "text/plain": [
              "<Figure size 640x480 with 1 Axes>"
            ],
            "image/png": "[encoded data removed]"
          },
          "metadata": {}
        }
      ]
    },
    {
      "cell_type": "code",
      "source": [
        "x = ['XG', 'Random F', 'Tree', 'SVM']\n",
        "y = [0.958, 0.941, 0.913, 0.813]\n",
        "\n",
        "# membuat bar chart menggunakan seaborn\n",
        "sns.set(style='darkgrid')\n",
        "plt.figure(figsize=(6, 4))\n",
        "ax = sns.barplot(x=x, y=y)\n",
        "ax.set_title('Model Accuracies')\n",
        "\n",
        "# menampilkan plot\n",
        "plt.show()"
      ],
      "metadata": {
        "colab": {
          "base_uri": "https://localhost:8080/",
          "height": 395
        },
        "id": "DKomCAaQffkH",
        "outputId": "5b722fc5-8c8d-449f-c526-18074766ada4"
      },
      "execution_count": null,
      "outputs": [
        {
          "output_type": "display_data",
          "data": {
            "text/plain": [
              "<Figure size 600x400 with 1 Axes>"
            ],
            "image/png": "[encoded data removed]"
          },
          "metadata": {}
        }
      ]
    },
    {
      "cell_type": "markdown",
      "source": [
        "# **memprediksi model dengan dataset yang tersedia**"
      ],
      "metadata": {
        "id": "D0dBGW_DZwyy"
      }
    },
    {
      "cell_type": "code",
      "source": [
        "df_tes = pd.read_csv('/content/drive/MyDrive/dataset challenge 2 binar/Data Test.csv')"
      ],
      "metadata": {
        "id": "3fmGl_GoZ3U7"
      },
      "execution_count": null,
      "outputs": []
    },
    {
      "cell_type": "code",
      "source": [
        "df_tes.head()"
      ],
      "metadata": {
        "colab": {
          "base_uri": "https://localhost:8080/",
          "height": 270
        },
        "id": "w7FYeipzaG80",
        "outputId": "53cd938a-5b27-49ae-9bff-33052050d7ac"
      },
      "execution_count": null,
      "outputs": [
        {
          "output_type": "execute_result",
          "data": {
            "text/plain": [
              "   id state  account_length      area_code international_plan voice_mail_plan  \\\n",
              "0   1    KS             128  area_code_415                 no             yes   \n",
              "1   2    AL             118  area_code_510                yes              no   \n",
              "2   3    IA              62  area_code_415                 no              no   \n",
              "3   4    VT              93  area_code_510                 no              no   \n",
              "4   5    NE             174  area_code_415                 no              no   \n",
              "\n",
              "   number_vmail_messages  total_day_minutes  total_day_calls  \\\n",
              "0                     25              265.1              110   \n",
              "1                      0              223.4               98   \n",
              "2                      0              120.7               70   \n",
              "3                      0              190.7              114   \n",
              "4                      0              124.3               76   \n",
              "\n",
              "   total_day_charge  total_eve_minutes  total_eve_calls  total_eve_charge  \\\n",
              "0             45.07              197.4               99             16.78   \n",
              "1             37.98              220.6              101             18.75   \n",
              "2             20.52              307.2               76             26.11   \n",
              "3             32.42              218.2              111             18.55   \n",
              "4             21.13              277.1              112             23.55   \n",
              "\n",
              "   total_night_minutes  total_night_calls  total_night_charge  \\\n",
              "0                244.7                 91               11.01   \n",
              "1                203.9                118                9.18   \n",
              "2                203.0                 99                9.14   \n",
              "3                129.6                121                5.83   \n",
              "4                250.7                115               11.28   \n",
              "\n",
              "   total_intl_minutes  total_intl_calls  total_intl_charge  \\\n",
              "0                10.0                 3               2.70   \n",
              "1                 6.3                 6               1.70   \n",
              "2                13.1                 6               3.54   \n",
              "3                 8.1                 3               2.19   \n",
              "4                15.5                 5               4.19   \n",
              "\n",
              "   number_customer_service_calls  \n",
              "0                              1  \n",
              "1                              0  \n",
              "2                              4  \n",
              "3                              3  \n",
              "4                              3  "
            ],
            "text/html": [
              "\n",
              "  <div id=\"df-92ab7015-ed34-4fb6-9595-49ae99c3061d\">\n",
              "    <div class=\"colab-df-container\">\n",
              "      <div>\n",
              "<style scoped>\n",
              "    .dataframe tbody tr th:only-of-type {\n",
              "        vertical-align: middle;\n",
              "    }\n",
              "\n",
              "    .dataframe tbody tr th {\n",
              "        vertical-align: top;\n",
              "    }\n",
              "\n",
              "    .dataframe thead th {\n",
              "        text-align: right;\n",
              "    }\n",
              "</style>\n",
              "<table border=\"1\" class=\"dataframe\">\n",
              "  <thead>\n",
              "    <tr style=\"text-align: right;\">\n",
              "      <th></th>\n",
              "      <th>id</th>\n",
              "      <th>state</th>\n",
              "      <th>account_length</th>\n",
              "      <th>area_code</th>\n",
              "      <th>international_plan</th>\n",
              "      <th>voice_mail_plan</th>\n",
              "      <th>number_vmail_messages</th>\n",
              "      <th>total_day_minutes</th>\n",
              "      <th>total_day_calls</th>\n",
              "      <th>total_day_charge</th>\n",
              "      <th>total_eve_minutes</th>\n",
              "      <th>total_eve_calls</th>\n",
              "      <th>total_eve_charge</th>\n",
              "      <th>total_night_minutes</th>\n",
              "      <th>total_night_calls</th>\n",
              "      <th>total_night_charge</th>\n",
              "      <th>total_intl_minutes</th>\n",
              "      <th>total_intl_calls</th>\n",
              "      <th>total_intl_charge</th>\n",
              "      <th>number_customer_service_calls</th>\n",
              "    </tr>\n",
              "  </thead>\n",
              "  <tbody>\n",
              "    <tr>\n",
              "      <th>0</th>\n",
              "      <td>1</td>\n",
              "      <td>KS</td>\n",
              "      <td>128</td>\n",
              "      <td>area_code_415</td>\n",
              "      <td>no</td>\n",
              "      <td>yes</td>\n",
              "      <td>25</td>\n",
              "      <td>265.1</td>\n",
              "      <td>110</td>\n",
              "      <td>45.07</td>\n",
              "      <td>197.4</td>\n",
              "      <td>99</td>\n",
              "      <td>16.78</td>\n",
              "      <td>244.7</td>\n",
              "      <td>91</td>\n",
              "      <td>11.01</td>\n",
              "      <td>10.0</td>\n",
              "      <td>3</td>\n",
              "      <td>2.70</td>\n",
              "      <td>1</td>\n",
              "    </tr>\n",
              "    <tr>\n",
              "      <th>1</th>\n",
              "      <td>2</td>\n",
              "      <td>AL</td>\n",
              "      <td>118</td>\n",
              "      <td>area_code_510</td>\n",
              "      <td>yes</td>\n",
              "      <td>no</td>\n",
              "      <td>0</td>\n",
              "      <td>223.4</td>\n",
              "      <td>98</td>\n",
              "      <td>37.98</td>\n",
              "      <td>220.6</td>\n",
              "      <td>101</td>\n",
              "      <td>18.75</td>\n",
              "      <td>203.9</td>\n",
              "      <td>118</td>\n",
              "      <td>9.18</td>\n",
              "      <td>6.3</td>\n",
              "      <td>6</td>\n",
              "      <td>1.70</td>\n",
              "      <td>0</td>\n",
              "    </tr>\n",
              "    <tr>\n",
              "      <th>2</th>\n",
              "      <td>3</td>\n",
              "      <td>IA</td>\n",
              "      <td>62</td>\n",
              "      <td>area_code_415</td>\n",
              "      <td>no</td>\n",
              "      <td>no</td>\n",
              "      <td>0</td>\n",
              "      <td>120.7</td>\n",
              "      <td>70</td>\n",
              "      <td>20.52</td>\n",
              "      <td>307.2</td>\n",
              "      <td>76</td>\n",
              "      <td>26.11</td>\n",
              "      <td>203.0</td>\n",
              "      <td>99</td>\n",
              "      <td>9.14</td>\n",
              "      <td>13.1</td>\n",
              "      <td>6</td>\n",
              "      <td>3.54</td>\n",
              "      <td>4</td>\n",
              "    </tr>\n",
              "    <tr>\n",
              "      <th>3</th>\n",
              "      <td>4</td>\n",
              "      <td>VT</td>\n",
              "      <td>93</td>\n",
              "      <td>area_code_510</td>\n",
              "      <td>no</td>\n",
              "      <td>no</td>\n",
              "      <td>0</td>\n",
              "      <td>190.7</td>\n",
              "      <td>114</td>\n",
              "      <td>32.42</td>\n",
              "      <td>218.2</td>\n",
              "      <td>111</td>\n",
              "      <td>18.55</td>\n",
              "      <td>129.6</td>\n",
              "      <td>121</td>\n",
              "      <td>5.83</td>\n",
              "      <td>8.1</td>\n",
              "      <td>3</td>\n",
              "      <td>2.19</td>\n",
              "      <td>3</td>\n",
              "    </tr>\n",
              "    <tr>\n",
              "      <th>4</th>\n",
              "      <td>5</td>\n",
              "      <td>NE</td>\n",
              "      <td>174</td>\n",
              "      <td>area_code_415</td>\n",
              "      <td>no</td>\n",
              "      <td>no</td>\n",
              "      <td>0</td>\n",
              "      <td>124.3</td>\n",
              "      <td>76</td>\n",
              "      <td>21.13</td>\n",
              "      <td>277.1</td>\n",
              "      <td>112</td>\n",
              "      <td>23.55</td>\n",
              "      <td>250.7</td>\n",
              "      <td>115</td>\n",
              "      <td>11.28</td>\n",
              "      <td>15.5</td>\n",
              "      <td>5</td>\n",
              "      <td>4.19</td>\n",
              "      <td>3</td>\n",
              "    </tr>\n",
              "  </tbody>\n",
              "</table>\n",
              "</div>\n",
              "      <button class=\"colab-df-convert\" onclick=\"convertToInteractive('df-92ab7015-ed34-4fb6-9595-49ae99c3061d')\"\n",
              "              title=\"Convert this dataframe to an interactive table.\"\n",
              "              style=\"display:none;\">\n",
              "        \n",
              "  <svg xmlns=\"http://www.w3.org/2000/svg\" height=\"24px\"viewBox=\"0 0 24 24\"\n",
              "       width=\"24px\">\n",
              "    <path d=\"M0 0h24v24H0V0z\" fill=\"none\"/>\n",
              "    <path d=\"M18.56 5.44l.94 2.06.94-2.06 2.06-.94-2.06-.94-.94-2.06-.94 2.06-2.06.94zm-11 1L8.5 8.5l.94-2.06 2.06-.94-2.06-.94L8.5 2.5l-.94 2.06-2.06.94zm10 10l.94 2.06.94-2.06 2.06-.94-2.06-.94-.94-2.06-.94 2.06-2.06.94z\"/><path d=\"M17.41 7.96l-1.37-1.37c-.4-.4-.92-.59-1.43-.59-.52 0-1.04.2-1.43.59L10.3 9.45l-7.72 7.72c-.78.78-.78 2.05 0 2.83L4 21.41c.39.39.9.59 1.41.59.51 0 1.02-.2 1.41-.59l7.78-7.78 2.81-2.81c.8-.78.8-2.07 0-2.86zM5.41 20L4 18.59l7.72-7.72 1.47 1.35L5.41 20z\"/>\n",
              "  </svg>\n",
              "      </button>\n",
              "      \n",
              "  <style>\n",
              "    .colab-df-container {\n",
              "      display:flex;\n",
              "      flex-wrap:wrap;\n",
              "      gap: 12px;\n",
              "    }\n",
              "\n",
              "    .colab-df-convert {\n",
              "      background-color: #E8F0FE;\n",
              "      border: none;\n",
              "      border-radius: 50%;\n",
              "      cursor: pointer;\n",
              "      display: none;\n",
              "      fill: #1967D2;\n",
              "      height: 32px;\n",
              "      padding: 0 0 0 0;\n",
              "      width: 32px;\n",
              "    }\n",
              "\n",
              "    .colab-df-convert:hover {\n",
              "      background-color: #E2EBFA;\n",
              "      box-shadow: 0px 1px 2px rgba(60, 64, 67, 0.3), 0px 1px 3px 1px rgba(60, 64, 67, 0.15);\n",
              "      fill: #174EA6;\n",
              "    }\n",
              "\n",
              "    [theme=dark] .colab-df-convert {\n",
              "      background-color: #3B4455;\n",
              "      fill: #D2E3FC;\n",
              "    }\n",
              "\n",
              "    [theme=dark] .colab-df-convert:hover {\n",
              "      background-color: #434B5C;\n",
              "      box-shadow: 0px 1px 3px 1px rgba(0, 0, 0, 0.15);\n",
              "      filter: drop-shadow(0px 1px 2px rgba(0, 0, 0, 0.3));\n",
              "      fill: #FFFFFF;\n",
              "    }\n",
              "  </style>\n",
              "\n",
              "      <script>\n",
              "        const buttonEl =\n",
              "          document.querySelector('#df-92ab7015-ed34-4fb6-9595-49ae99c3061d button.colab-df-convert');\n",
              "        buttonEl.style.display =\n",
              "          google.colab.kernel.accessAllowed ? 'block' : 'none';\n",
              "\n",
              "        async function convertToInteractive(key) {\n",
              "          const element = document.querySelector('#df-92ab7015-ed34-4fb6-9595-49ae99c3061d');\n",
              "          const dataTable =\n",
              "            await google.colab.kernel.invokeFunction('convertToInteractive',\n",
              "                                                     [key], {});\n",
              "          if (!dataTable) return;\n",
              "\n",
              "          const docLinkHtml = 'Like what you see? Visit the ' +\n",
              "            '<a target=\"_blank\" href=https://colab.research.google.com/notebooks/data_table.ipynb>data table notebook</a>'\n",
              "            + ' to learn more about interactive tables.';\n",
              "          element.innerHTML = '';\n",
              "          dataTable['output_type'] = 'display_data';\n",
              "          await google.colab.output.renderOutput(dataTable, element);\n",
              "          const docLink = document.createElement('div');\n",
              "          docLink.innerHTML = docLinkHtml;\n",
              "          element.appendChild(docLink);\n",
              "        }\n",
              "      </script>\n",
              "    </div>\n",
              "  </div>\n",
              "  "
            ]
          },
          "metadata": {},
          "execution_count": 46
        }
      ]
    },
    {
      "cell_type": "code",
      "source": [
        "df_tes.isna().sum()"
      ],
      "metadata": {
        "colab": {
          "base_uri": "https://localhost:8080/"
        },
        "id": "yxBPZ0EaaLRO",
        "outputId": "b3503054-633a-41ad-b0e8-ee4ed35bc543"
      },
      "execution_count": null,
      "outputs": [
        {
          "output_type": "execute_result",
          "data": {
            "text/plain": [
              "id                               0\n",
              "state                            0\n",
              "account_length                   0\n",
              "area_code                        0\n",
              "international_plan               0\n",
              "voice_mail_plan                  0\n",
              "number_vmail_messages            0\n",
              "total_day_minutes                0\n",
              "total_day_calls                  0\n",
              "total_day_charge                 0\n",
              "total_eve_minutes                0\n",
              "total_eve_calls                  0\n",
              "total_eve_charge                 0\n",
              "total_night_minutes              0\n",
              "total_night_calls                0\n",
              "total_night_charge               0\n",
              "total_intl_minutes               0\n",
              "total_intl_calls                 0\n",
              "total_intl_charge                0\n",
              "number_customer_service_calls    0\n",
              "dtype: int64"
            ]
          },
          "metadata": {},
          "execution_count": 59
        }
      ]
    },
    {
      "cell_type": "code",
      "source": [
        "df_tes.info()"
      ],
      "metadata": {
        "colab": {
          "base_uri": "https://localhost:8080/"
        },
        "id": "_NaKAT1DaSrf",
        "outputId": "5a5490c6-6082-4062-aad2-1a90fb17c61e"
      },
      "execution_count": null,
      "outputs": [
        {
          "output_type": "stream",
          "name": "stdout",
          "text": [
            "<class 'pandas.core.frame.DataFrame'>\n",
            "RangeIndex: 750 entries, 0 to 749\n",
            "Data columns (total 20 columns):\n",
            " #   Column                         Non-Null Count  Dtype  \n",
            "---  ------                         --------------  -----  \n",
            " 0   id                             750 non-null    int64  \n",
            " 1   state                          750 non-null    object \n",
            " 2   account_length                 750 non-null    int64  \n",
            " 3   area_code                      750 non-null    object \n",
            " 4   international_plan             750 non-null    object \n",
            " 5   voice_mail_plan                750 non-null    object \n",
            " 6   number_vmail_messages          750 non-null    int64  \n",
            " 7   total_day_minutes              750 non-null    float64\n",
            " 8   total_day_calls                750 non-null    int64  \n",
            " 9   total_day_charge               750 non-null    float64\n",
            " 10  total_eve_minutes              750 non-null    float64\n",
            " 11  total_eve_calls                750 non-null    int64  \n",
            " 12  total_eve_charge               750 non-null    float64\n",
            " 13  total_night_minutes            750 non-null    float64\n",
            " 14  total_night_calls              750 non-null    int64  \n",
            " 15  total_night_charge             750 non-null    float64\n",
            " 16  total_intl_minutes             750 non-null    float64\n",
            " 17  total_intl_calls               750 non-null    int64  \n",
            " 18  total_intl_charge              750 non-null    float64\n",
            " 19  number_customer_service_calls  750 non-null    int64  \n",
            "dtypes: float64(8), int64(8), object(4)\n",
            "memory usage: 117.3+ KB\n"
          ]
        }
      ]
    },
    {
      "cell_type": "code",
      "source": [
        "df_tes[kolom_numerik] = scaler.fit_transform(df_tes[kolom_numerik])"
      ],
      "metadata": {
        "id": "qifW1ApZaXKC"
      },
      "execution_count": null,
      "outputs": []
    },
    {
      "cell_type": "code",
      "source": [
        "df_tes['state'] = EN.fit_transform(df_tes['state'])\n",
        "\n",
        "df_tes['area_code'] = EN.fit_transform(df_tes['area_code'])\n",
        "\n",
        "df_tes['voice_mail_plan'] = EN.fit_transform(df_tes['voice_mail_plan'])\n",
        "\n",
        "df_tes['international_plan'] = EN.fit_transform(df_tes['international_plan'])"
      ],
      "metadata": {
        "id": "GVWoMBFfalMn"
      },
      "execution_count": null,
      "outputs": []
    },
    {
      "cell_type": "code",
      "source": [
        "df_tes.head()"
      ],
      "metadata": {
        "colab": {
          "base_uri": "https://localhost:8080/",
          "height": 270
        },
        "id": "_LbYPFwHbCut",
        "outputId": "d8329b6f-8345-4f74-9c35-24304b827ed4"
      },
      "execution_count": null,
      "outputs": [
        {
          "output_type": "execute_result",
          "data": {
            "text/plain": [
              "   id  state  account_length  area_code  international_plan  voice_mail_plan  \\\n",
              "0   1     16        0.535865          1                   0                1   \n",
              "1   2      1        0.493671          2                   1                0   \n",
              "2   3     12        0.257384          1                   0                0   \n",
              "3   4     46        0.388186          2                   0                0   \n",
              "4   5     29        0.729958          1                   0                0   \n",
              "\n",
              "   number_vmail_messages  total_day_minutes  total_day_calls  \\\n",
              "0               0.490196           0.746675         0.572581   \n",
              "1               0.000000           0.623411         0.475806   \n",
              "2               0.000000           0.319834         0.250000   \n",
              "3               0.000000           0.526751         0.604839   \n",
              "4               0.000000           0.330476         0.298387   \n",
              "\n",
              "   total_day_charge  total_eve_minutes  total_eve_calls  total_eve_charge  \\\n",
              "0          0.746653           0.499850         0.488189          0.500000   \n",
              "1          0.623370           0.569624         0.503937          0.569710   \n",
              "2          0.319770           0.830075         0.307087          0.830149   \n",
              "3          0.526691           0.562406         0.582677          0.562633   \n",
              "4          0.330377           0.739549         0.590551          0.739561   \n",
              "\n",
              "   total_night_minutes  total_night_calls  total_night_charge  \\\n",
              "0             0.618379           0.506410            0.618440   \n",
              "1             0.488194           0.679487            0.488652   \n",
              "2             0.485322           0.557692            0.485816   \n",
              "3             0.251117           0.698718            0.251064   \n",
              "4             0.637524           0.660256            0.637589   \n",
              "\n",
              "   total_intl_minutes  total_intl_calls  total_intl_charge  \\\n",
              "0            0.529101          0.157895           0.529412   \n",
              "1            0.333333          0.315789           0.333333   \n",
              "2            0.693122          0.315789           0.694118   \n",
              "3            0.428571          0.157895           0.429412   \n",
              "4            0.820106          0.263158           0.821569   \n",
              "\n",
              "   number_customer_service_calls  \n",
              "0                       0.166667  \n",
              "1                       0.000000  \n",
              "2                       0.666667  \n",
              "3                       0.500000  \n",
              "4                       0.500000  "
            ],
            "text/html": [
              "\n",
              "  <div id=\"df-8b86cfe2-af70-490a-abb7-e8e49b1ef452\">\n",
              "    <div class=\"colab-df-container\">\n",
              "      <div>\n",
              "<style scoped>\n",
              "    .dataframe tbody tr th:only-of-type {\n",
              "        vertical-align: middle;\n",
              "    }\n",
              "\n",
              "    .dataframe tbody tr th {\n",
              "        vertical-align: top;\n",
              "    }\n",
              "\n",
              "    .dataframe thead th {\n",
              "        text-align: right;\n",
              "    }\n",
              "</style>\n",
              "<table border=\"1\" class=\"dataframe\">\n",
              "  <thead>\n",
              "    <tr style=\"text-align: right;\">\n",
              "      <th></th>\n",
              "      <th>id</th>\n",
              "      <th>state</th>\n",
              "      <th>account_length</th>\n",
              "      <th>area_code</th>\n",
              "      <th>international_plan</th>\n",
              "      <th>voice_mail_plan</th>\n",
              "      <th>number_vmail_messages</th>\n",
              "      <th>total_day_minutes</th>\n",
              "      <th>total_day_calls</th>\n",
              "      <th>total_day_charge</th>\n",
              "      <th>total_eve_minutes</th>\n",
              "      <th>total_eve_calls</th>\n",
              "      <th>total_eve_charge</th>\n",
              "      <th>total_night_minutes</th>\n",
              "      <th>total_night_calls</th>\n",
              "      <th>total_night_charge</th>\n",
              "      <th>total_intl_minutes</th>\n",
              "      <th>total_intl_calls</th>\n",
              "      <th>total_intl_charge</th>\n",
              "      <th>number_customer_service_calls</th>\n",
              "    </tr>\n",
              "  </thead>\n",
              "  <tbody>\n",
              "    <tr>\n",
              "      <th>0</th>\n",
              "      <td>1</td>\n",
              "      <td>16</td>\n",
              "      <td>0.535865</td>\n",
              "      <td>1</td>\n",
              "      <td>0</td>\n",
              "      <td>1</td>\n",
              "      <td>0.490196</td>\n",
              "      <td>0.746675</td>\n",
              "      <td>0.572581</td>\n",
              "      <td>0.746653</td>\n",
              "      <td>0.499850</td>\n",
              "      <td>0.488189</td>\n",
              "      <td>0.500000</td>\n",
              "      <td>0.618379</td>\n",
              "      <td>0.506410</td>\n",
              "      <td>0.618440</td>\n",
              "      <td>0.529101</td>\n",
              "      <td>0.157895</td>\n",
              "      <td>0.529412</td>\n",
              "      <td>0.166667</td>\n",
              "    </tr>\n",
              "    <tr>\n",
              "      <th>1</th>\n",
              "      <td>2</td>\n",
              "      <td>1</td>\n",
              "      <td>0.493671</td>\n",
              "      <td>2</td>\n",
              "      <td>1</td>\n",
              "      <td>0</td>\n",
              "      <td>0.000000</td>\n",
              "      <td>0.623411</td>\n",
              "      <td>0.475806</td>\n",
              "      <td>0.623370</td>\n",
              "      <td>0.569624</td>\n",
              "      <td>0.503937</td>\n",
              "      <td>0.569710</td>\n",
              "      <td>0.488194</td>\n",
              "      <td>0.679487</td>\n",
              "      <td>0.488652</td>\n",
              "      <td>0.333333</td>\n",
              "      <td>0.315789</td>\n",
              "      <td>0.333333</td>\n",
              "      <td>0.000000</td>\n",
              "    </tr>\n",
              "    <tr>\n",
              "      <th>2</th>\n",
              "      <td>3</td>\n",
              "      <td>12</td>\n",
              "      <td>0.257384</td>\n",
              "      <td>1</td>\n",
              "      <td>0</td>\n",
              "      <td>0</td>\n",
              "      <td>0.000000</td>\n",
              "      <td>0.319834</td>\n",
              "      <td>0.250000</td>\n",
              "      <td>0.319770</td>\n",
              "      <td>0.830075</td>\n",
              "      <td>0.307087</td>\n",
              "      <td>0.830149</td>\n",
              "      <td>0.485322</td>\n",
              "      <td>0.557692</td>\n",
              "      <td>0.485816</td>\n",
              "      <td>0.693122</td>\n",
              "      <td>0.315789</td>\n",
              "      <td>0.694118</td>\n",
              "      <td>0.666667</td>\n",
              "    </tr>\n",
              "    <tr>\n",
              "      <th>3</th>\n",
              "      <td>4</td>\n",
              "      <td>46</td>\n",
              "      <td>0.388186</td>\n",
              "      <td>2</td>\n",
              "      <td>0</td>\n",
              "      <td>0</td>\n",
              "      <td>0.000000</td>\n",
              "      <td>0.526751</td>\n",
              "      <td>0.604839</td>\n",
              "      <td>0.526691</td>\n",
              "      <td>0.562406</td>\n",
              "      <td>0.582677</td>\n",
              "      <td>0.562633</td>\n",
              "      <td>0.251117</td>\n",
              "      <td>0.698718</td>\n",
              "      <td>0.251064</td>\n",
              "      <td>0.428571</td>\n",
              "      <td>0.157895</td>\n",
              "      <td>0.429412</td>\n",
              "      <td>0.500000</td>\n",
              "    </tr>\n",
              "    <tr>\n",
              "      <th>4</th>\n",
              "      <td>5</td>\n",
              "      <td>29</td>\n",
              "      <td>0.729958</td>\n",
              "      <td>1</td>\n",
              "      <td>0</td>\n",
              "      <td>0</td>\n",
              "      <td>0.000000</td>\n",
              "      <td>0.330476</td>\n",
              "      <td>0.298387</td>\n",
              "      <td>0.330377</td>\n",
              "      <td>0.739549</td>\n",
              "      <td>0.590551</td>\n",
              "      <td>0.739561</td>\n",
              "      <td>0.637524</td>\n",
              "      <td>0.660256</td>\n",
              "      <td>0.637589</td>\n",
              "      <td>0.820106</td>\n",
              "      <td>0.263158</td>\n",
              "      <td>0.821569</td>\n",
              "      <td>0.500000</td>\n",
              "    </tr>\n",
              "  </tbody>\n",
              "</table>\n",
              "</div>\n",
              "      <button class=\"colab-df-convert\" onclick=\"convertToInteractive('df-8b86cfe2-af70-490a-abb7-e8e49b1ef452')\"\n",
              "              title=\"Convert this dataframe to an interactive table.\"\n",
              "              style=\"display:none;\">\n",
              "        \n",
              "  <svg xmlns=\"http://www.w3.org/2000/svg\" height=\"24px\"viewBox=\"0 0 24 24\"\n",
              "       width=\"24px\">\n",
              "    <path d=\"M0 0h24v24H0V0z\" fill=\"none\"/>\n",
              "    <path d=\"M18.56 5.44l.94 2.06.94-2.06 2.06-.94-2.06-.94-.94-2.06-.94 2.06-2.06.94zm-11 1L8.5 8.5l.94-2.06 2.06-.94-2.06-.94L8.5 2.5l-.94 2.06-2.06.94zm10 10l.94 2.06.94-2.06 2.06-.94-2.06-.94-.94-2.06-.94 2.06-2.06.94z\"/><path d=\"M17.41 7.96l-1.37-1.37c-.4-.4-.92-.59-1.43-.59-.52 0-1.04.2-1.43.59L10.3 9.45l-7.72 7.72c-.78.78-.78 2.05 0 2.83L4 21.41c.39.39.9.59 1.41.59.51 0 1.02-.2 1.41-.59l7.78-7.78 2.81-2.81c.8-.78.8-2.07 0-2.86zM5.41 20L4 18.59l7.72-7.72 1.47 1.35L5.41 20z\"/>\n",
              "  </svg>\n",
              "      </button>\n",
              "      \n",
              "  <style>\n",
              "    .colab-df-container {\n",
              "      display:flex;\n",
              "      flex-wrap:wrap;\n",
              "      gap: 12px;\n",
              "    }\n",
              "\n",
              "    .colab-df-convert {\n",
              "      background-color: #E8F0FE;\n",
              "      border: none;\n",
              "      border-radius: 50%;\n",
              "      cursor: pointer;\n",
              "      display: none;\n",
              "      fill: #1967D2;\n",
              "      height: 32px;\n",
              "      padding: 0 0 0 0;\n",
              "      width: 32px;\n",
              "    }\n",
              "\n",
              "    .colab-df-convert:hover {\n",
              "      background-color: #E2EBFA;\n",
              "      box-shadow: 0px 1px 2px rgba(60, 64, 67, 0.3), 0px 1px 3px 1px rgba(60, 64, 67, 0.15);\n",
              "      fill: #174EA6;\n",
              "    }\n",
              "\n",
              "    [theme=dark] .colab-df-convert {\n",
              "      background-color: #3B4455;\n",
              "      fill: #D2E3FC;\n",
              "    }\n",
              "\n",
              "    [theme=dark] .colab-df-convert:hover {\n",
              "      background-color: #434B5C;\n",
              "      box-shadow: 0px 1px 3px 1px rgba(0, 0, 0, 0.15);\n",
              "      filter: drop-shadow(0px 1px 2px rgba(0, 0, 0, 0.3));\n",
              "      fill: #FFFFFF;\n",
              "    }\n",
              "  </style>\n",
              "\n",
              "      <script>\n",
              "        const buttonEl =\n",
              "          document.querySelector('#df-8b86cfe2-af70-490a-abb7-e8e49b1ef452 button.colab-df-convert');\n",
              "        buttonEl.style.display =\n",
              "          google.colab.kernel.accessAllowed ? 'block' : 'none';\n",
              "\n",
              "        async function convertToInteractive(key) {\n",
              "          const element = document.querySelector('#df-8b86cfe2-af70-490a-abb7-e8e49b1ef452');\n",
              "          const dataTable =\n",
              "            await google.colab.kernel.invokeFunction('convertToInteractive',\n",
              "                                                     [key], {});\n",
              "          if (!dataTable) return;\n",
              "\n",
              "          const docLinkHtml = 'Like what you see? Visit the ' +\n",
              "            '<a target=\"_blank\" href=https://colab.research.google.com/notebooks/data_table.ipynb>data table notebook</a>'\n",
              "            + ' to learn more about interactive tables.';\n",
              "          element.innerHTML = '';\n",
              "          dataTable['output_type'] = 'display_data';\n",
              "          await google.colab.output.renderOutput(dataTable, element);\n",
              "          const docLink = document.createElement('div');\n",
              "          docLink.innerHTML = docLinkHtml;\n",
              "          element.appendChild(docLink);\n",
              "        }\n",
              "      </script>\n",
              "    </div>\n",
              "  </div>\n",
              "  "
            ]
          },
          "metadata": {},
          "execution_count": 63
        }
      ]
    },
    {
      "cell_type": "code",
      "source": [
        "test_data = df_tes.copy()"
      ],
      "metadata": {
        "id": "6Plduc3gbFTJ"
      },
      "execution_count": null,
      "outputs": []
    },
    {
      "cell_type": "code",
      "source": [
        "testing = test_data.drop(['id'], axis=1)"
      ],
      "metadata": {
        "id": "sj1EspSicH4h"
      },
      "execution_count": null,
      "outputs": []
    },
    {
      "cell_type": "code",
      "source": [
        "testing.shape"
      ],
      "metadata": {
        "colab": {
          "base_uri": "https://localhost:8080/"
        },
        "id": "xbAnq5K0bTMf",
        "outputId": "7640034f-03ab-4c36-f2be-814ebeb41a08"
      },
      "execution_count": null,
      "outputs": [
        {
          "output_type": "execute_result",
          "data": {
            "text/plain": [
              "(750, 19)"
            ]
          },
          "metadata": {},
          "execution_count": 66
        }
      ]
    },
    {
      "cell_type": "markdown",
      "source": [
        "# **MEMILIH PREDIKSI DENGAN MODEL YANG TERBAIK**"
      ],
      "metadata": {
        "id": "6fuJ2g0obdRZ"
      }
    },
    {
      "cell_type": "code",
      "source": [
        "Pred_XG_Tes_data = xgb_clf_best.predict(testing)"
      ],
      "metadata": {
        "id": "1Jhbgs6IbYoy"
      },
      "execution_count": null,
      "outputs": []
    },
    {
      "cell_type": "code",
      "source": [
        "output_RF = pd.DataFrame({'id_customer': df_tes.id, 'State': df_tes.state, 'churn': Pred_XG_Tes_data })\n",
        "output_RF.to_csv('result.RF.csv', index=False)"
      ],
      "metadata": {
        "id": "bo9_CSIvcdYm"
      },
      "execution_count": null,
      "outputs": []
    },
    {
      "cell_type": "code",
      "source": [
        "df_pred = pd.read_csv('/content/result.RF.csv')"
      ],
      "metadata": {
        "id": "usg0NnrML_Rw"
      },
      "execution_count": null,
      "outputs": []
    },
    {
      "cell_type": "code",
      "source": [
        "df_pred"
      ],
      "metadata": {
        "colab": {
          "base_uri": "https://localhost:8080/",
          "height": 423
        },
        "id": "8lG4XqWXMHJ8",
        "outputId": "178ab5bc-e356-4217-cd4e-be01a7a99a99"
      },
      "execution_count": null,
      "outputs": [
        {
          "output_type": "execute_result",
          "data": {
            "text/plain": [
              "     id_customer  State  churn\n",
              "0              1     16      1\n",
              "1              2      1      0\n",
              "2              3     12      1\n",
              "3              4     46      1\n",
              "4              5     29      1\n",
              "..           ...    ...    ...\n",
              "745          746     10      0\n",
              "746          747     47      1\n",
              "747          748     49      1\n",
              "748          749      7      1\n",
              "749          750      7      0\n",
              "\n",
              "[750 rows x 3 columns]"
            ],
            "text/html": [
              "\n",
              "  <div id=\"df-7a4dfff3-ca39-4049-a98c-49b65602faf9\">\n",
              "    <div class=\"colab-df-container\">\n",
              "      <div>\n",
              "<style scoped>\n",
              "    .dataframe tbody tr th:only-of-type {\n",
              "        vertical-align: middle;\n",
              "    }\n",
              "\n",
              "    .dataframe tbody tr th {\n",
              "        vertical-align: top;\n",
              "    }\n",
              "\n",
              "    .dataframe thead th {\n",
              "        text-align: right;\n",
              "    }\n",
              "</style>\n",
              "<table border=\"1\" class=\"dataframe\">\n",
              "  <thead>\n",
              "    <tr style=\"text-align: right;\">\n",
              "      <th></th>\n",
              "      <th>id_customer</th>\n",
              "      <th>State</th>\n",
              "      <th>churn</th>\n",
              "    </tr>\n",
              "  </thead>\n",
              "  <tbody>\n",
              "    <tr>\n",
              "      <th>0</th>\n",
              "      <td>1</td>\n",
              "      <td>16</td>\n",
              "      <td>1</td>\n",
              "    </tr>\n",
              "    <tr>\n",
              "      <th>1</th>\n",
              "      <td>2</td>\n",
              "      <td>1</td>\n",
              "      <td>0</td>\n",
              "    </tr>\n",
              "    <tr>\n",
              "      <th>2</th>\n",
              "      <td>3</td>\n",
              "      <td>12</td>\n",
              "      <td>1</td>\n",
              "    </tr>\n",
              "    <tr>\n",
              "      <th>3</th>\n",
              "      <td>4</td>\n",
              "      <td>46</td>\n",
              "      <td>1</td>\n",
              "    </tr>\n",
              "    <tr>\n",
              "      <th>4</th>\n",
              "      <td>5</td>\n",
              "      <td>29</td>\n",
              "      <td>1</td>\n",
              "    </tr>\n",
              "    <tr>\n",
              "      <th>...</th>\n",
              "      <td>...</td>\n",
              "      <td>...</td>\n",
              "      <td>...</td>\n",
              "    </tr>\n",
              "    <tr>\n",
              "      <th>745</th>\n",
              "      <td>746</td>\n",
              "      <td>10</td>\n",
              "      <td>0</td>\n",
              "    </tr>\n",
              "    <tr>\n",
              "      <th>746</th>\n",
              "      <td>747</td>\n",
              "      <td>47</td>\n",
              "      <td>1</td>\n",
              "    </tr>\n",
              "    <tr>\n",
              "      <th>747</th>\n",
              "      <td>748</td>\n",
              "      <td>49</td>\n",
              "      <td>1</td>\n",
              "    </tr>\n",
              "    <tr>\n",
              "      <th>748</th>\n",
              "      <td>749</td>\n",
              "      <td>7</td>\n",
              "      <td>1</td>\n",
              "    </tr>\n",
              "    <tr>\n",
              "      <th>749</th>\n",
              "      <td>750</td>\n",
              "      <td>7</td>\n",
              "      <td>0</td>\n",
              "    </tr>\n",
              "  </tbody>\n",
              "</table>\n",
              "<p>750 rows × 3 columns</p>\n",
              "</div>\n",
              "      <button class=\"colab-df-convert\" onclick=\"convertToInteractive('df-7a4dfff3-ca39-4049-a98c-49b65602faf9')\"\n",
              "              title=\"Convert this dataframe to an interactive table.\"\n",
              "              style=\"display:none;\">\n",
              "        \n",
              "  <svg xmlns=\"http://www.w3.org/2000/svg\" height=\"24px\"viewBox=\"0 0 24 24\"\n",
              "       width=\"24px\">\n",
              "    <path d=\"M0 0h24v24H0V0z\" fill=\"none\"/>\n",
              "    <path d=\"M18.56 5.44l.94 2.06.94-2.06 2.06-.94-2.06-.94-.94-2.06-.94 2.06-2.06.94zm-11 1L8.5 8.5l.94-2.06 2.06-.94-2.06-.94L8.5 2.5l-.94 2.06-2.06.94zm10 10l.94 2.06.94-2.06 2.06-.94-2.06-.94-.94-2.06-.94 2.06-2.06.94z\"/><path d=\"M17.41 7.96l-1.37-1.37c-.4-.4-.92-.59-1.43-.59-.52 0-1.04.2-1.43.59L10.3 9.45l-7.72 7.72c-.78.78-.78 2.05 0 2.83L4 21.41c.39.39.9.59 1.41.59.51 0 1.02-.2 1.41-.59l7.78-7.78 2.81-2.81c.8-.78.8-2.07 0-2.86zM5.41 20L4 18.59l7.72-7.72 1.47 1.35L5.41 20z\"/>\n",
              "  </svg>\n",
              "      </button>\n",
              "      \n",
              "  <style>\n",
              "    .colab-df-container {\n",
              "      display:flex;\n",
              "      flex-wrap:wrap;\n",
              "      gap: 12px;\n",
              "    }\n",
              "\n",
              "    .colab-df-convert {\n",
              "      background-color: #E8F0FE;\n",
              "      border: none;\n",
              "      border-radius: 50%;\n",
              "      cursor: pointer;\n",
              "      display: none;\n",
              "      fill: #1967D2;\n",
              "      height: 32px;\n",
              "      padding: 0 0 0 0;\n",
              "      width: 32px;\n",
              "    }\n",
              "\n",
              "    .colab-df-convert:hover {\n",
              "      background-color: #E2EBFA;\n",
              "      box-shadow: 0px 1px 2px rgba(60, 64, 67, 0.3), 0px 1px 3px 1px rgba(60, 64, 67, 0.15);\n",
              "      fill: #174EA6;\n",
              "    }\n",
              "\n",
              "    [theme=dark] .colab-df-convert {\n",
              "      background-color: #3B4455;\n",
              "      fill: #D2E3FC;\n",
              "    }\n",
              "\n",
              "    [theme=dark] .colab-df-convert:hover {\n",
              "      background-color: #434B5C;\n",
              "      box-shadow: 0px 1px 3px 1px rgba(0, 0, 0, 0.15);\n",
              "      filter: drop-shadow(0px 1px 2px rgba(0, 0, 0, 0.3));\n",
              "      fill: #FFFFFF;\n",
              "    }\n",
              "  </style>\n",
              "\n",
              "      <script>\n",
              "        const buttonEl =\n",
              "          document.querySelector('#df-7a4dfff3-ca39-4049-a98c-49b65602faf9 button.colab-df-convert');\n",
              "        buttonEl.style.display =\n",
              "          google.colab.kernel.accessAllowed ? 'block' : 'none';\n",
              "\n",
              "        async function convertToInteractive(key) {\n",
              "          const element = document.querySelector('#df-7a4dfff3-ca39-4049-a98c-49b65602faf9');\n",
              "          const dataTable =\n",
              "            await google.colab.kernel.invokeFunction('convertToInteractive',\n",
              "                                                     [key], {});\n",
              "          if (!dataTable) return;\n",
              "\n",
              "          const docLinkHtml = 'Like what you see? Visit the ' +\n",
              "            '<a target=\"_blank\" href=https://colab.research.google.com/notebooks/data_table.ipynb>data table notebook</a>'\n",
              "            + ' to learn more about interactive tables.';\n",
              "          element.innerHTML = '';\n",
              "          dataTable['output_type'] = 'display_data';\n",
              "          await google.colab.output.renderOutput(dataTable, element);\n",
              "          const docLink = document.createElement('div');\n",
              "          docLink.innerHTML = docLinkHtml;\n",
              "          element.appendChild(docLink);\n",
              "        }\n",
              "      </script>\n",
              "    </div>\n",
              "  </div>\n",
              "  "
            ]
          },
          "metadata": {},
          "execution_count": 70
        }
      ]
    },
    {
      "cell_type": "code",
      "source": [
        "plt.subplot(2, 2, 3)\n",
        "sns.countplot(x='churn', data=df_pred, palette='pastel')\n",
        "plt.title('Total prediksi churn', fontsize=16)\n",
        "plt.xlabel('Plan churn or not', fontsize=14)\n",
        "plt.ylabel('Total', fontsize=14)"
      ],
      "metadata": {
        "colab": {
          "base_uri": "https://localhost:8080/",
          "height": 299
        },
        "id": "gxcuhV-13K2p",
        "outputId": "1d8831ce-4b01-4c5f-b448-80c10ff63cc9"
      },
      "execution_count": null,
      "outputs": [
        {
          "output_type": "execute_result",
          "data": {
            "text/plain": [
              "Text(0, 0.5, 'Total')"
            ]
          },
          "metadata": {},
          "execution_count": 71
        },
        {
          "output_type": "display_data",
          "data": {
            "text/plain": [
              "<Figure size 640x480 with 1 Axes>"
            ],
            "image/png": "[encoded data removed]"
          },
          "metadata": {}
        }
      ]
    }
  ]
}